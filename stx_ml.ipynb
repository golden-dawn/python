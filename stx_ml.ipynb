{
 "cells": [
  {
   "cell_type": "markdown",
   "metadata": {},
   "source": [
    "# STX ML\n",
    "To install:\n",
    "```\n",
    "mkvirtualenv venv-ml\n",
    "workon venv-ml\n",
    "pip install -r requirements.txt\n",
    "pip install -r requirements_ml.txt\n",
    "```\n",
    "Based on code from https://github.com/Kulbear/stock-prediction"
   ]
  },
  {
   "cell_type": "code",
   "execution_count": 1,
   "metadata": {},
   "outputs": [
    {
     "name": "stderr",
     "output_type": "stream",
     "text": [
      "Using TensorFlow backend.\n",
      "stxcal.py:17: FutureWarning: pandas.core.datetools.Timedelta is deprecated. Please use pandas._libs.tslib.Timedelta instead.\n",
      "  pd.datetools.Timedelta(weeks=52)\n"
     ]
    },
    {
     "name": "stdout",
     "output_type": "stream",
     "text": [
      "Initializing calendar between 1901-01-01 and 2019-12-25\n"
     ]
    }
   ],
   "source": [
    "import time\n",
    "import math\n",
    "from keras.models import Sequential\n",
    "from keras.layers.core import Dense, Dropout, Activation\n",
    "from keras.layers.recurrent import LSTM\n",
    "import numpy as np\n",
    "import pandas as pd\n",
    "import sklearn.preprocessing as prep\n",
    "import stxcal \n",
    "from stxts import StxTS "
   ]
  },
  {
   "cell_type": "markdown",
   "metadata": {},
   "source": [
    "## Import data\n",
    "Start with one stock: MSFT; adjust for splits"
   ]
  },
  {
   "cell_type": "code",
   "execution_count": 18,
   "metadata": {},
   "outputs": [
    {
     "data": {
      "text/plain": [
       "8244"
      ]
     },
     "execution_count": 18,
     "metadata": {},
     "output_type": "execute_result"
    }
   ],
   "source": [
    "stk = 'MSFT'\n",
    "sd = '1960-01-01'\n",
    "ed = stxcal.current_date()\n",
    "ts = StxTS(stk, sd, ed)\n",
    "dt = str(ts.df.index[ts.l - 1].date())\n",
    "ts.set_day(dt)"
   ]
  },
  {
   "cell_type": "code",
   "execution_count": 19,
   "metadata": {},
   "outputs": [
    {
     "data": {
      "text/html": [
       "<div>\n",
       "<style scoped>\n",
       "    .dataframe tbody tr th:only-of-type {\n",
       "        vertical-align: middle;\n",
       "    }\n",
       "\n",
       "    .dataframe tbody tr th {\n",
       "        vertical-align: top;\n",
       "    }\n",
       "\n",
       "    .dataframe thead th {\n",
       "        text-align: right;\n",
       "    }\n",
       "</style>\n",
       "<table border=\"1\" class=\"dataframe\">\n",
       "  <thead>\n",
       "    <tr style=\"text-align: right;\">\n",
       "      <th></th>\n",
       "      <th>o</th>\n",
       "      <th>hi</th>\n",
       "      <th>lo</th>\n",
       "      <th>volume</th>\n",
       "      <th>open_interest</th>\n",
       "      <th>c</th>\n",
       "    </tr>\n",
       "  </thead>\n",
       "  <tbody>\n",
       "    <tr>\n",
       "      <th>1986-03-13</th>\n",
       "      <td>0.079994</td>\n",
       "      <td>0.089993</td>\n",
       "      <td>0.079994</td>\n",
       "      <td>1.151131e+06</td>\n",
       "      <td>97190.94</td>\n",
       "      <td>0.084431</td>\n",
       "    </tr>\n",
       "    <tr>\n",
       "      <th>1986-03-14</th>\n",
       "      <td>0.084431</td>\n",
       "      <td>0.089993</td>\n",
       "      <td>0.084431</td>\n",
       "      <td>3.446672e+05</td>\n",
       "      <td>31017.60</td>\n",
       "      <td>0.089993</td>\n",
       "    </tr>\n",
       "    <tr>\n",
       "      <th>1986-03-17</th>\n",
       "      <td>0.089993</td>\n",
       "      <td>0.095555</td>\n",
       "      <td>0.089993</td>\n",
       "      <td>1.488118e+05</td>\n",
       "      <td>13392.00</td>\n",
       "      <td>0.089993</td>\n",
       "    </tr>\n",
       "    <tr>\n",
       "      <th>1986-03-18</th>\n",
       "      <td>0.089993</td>\n",
       "      <td>0.095555</td>\n",
       "      <td>0.089993</td>\n",
       "      <td>7.424587e+04</td>\n",
       "      <td>6681.60</td>\n",
       "      <td>0.089993</td>\n",
       "    </tr>\n",
       "    <tr>\n",
       "      <th>1986-03-19</th>\n",
       "      <td>0.089993</td>\n",
       "      <td>0.089993</td>\n",
       "      <td>0.084431</td>\n",
       "      <td>5.376425e+04</td>\n",
       "      <td>4838.40</td>\n",
       "      <td>0.089993</td>\n",
       "    </tr>\n",
       "  </tbody>\n",
       "</table>\n",
       "</div>"
      ],
      "text/plain": [
       "                   o        hi        lo        volume  open_interest  \\\n",
       "1986-03-13  0.079994  0.089993  0.079994  1.151131e+06       97190.94   \n",
       "1986-03-14  0.084431  0.089993  0.084431  3.446672e+05       31017.60   \n",
       "1986-03-17  0.089993  0.095555  0.089993  1.488118e+05       13392.00   \n",
       "1986-03-18  0.089993  0.095555  0.089993  7.424587e+04        6681.60   \n",
       "1986-03-19  0.089993  0.089993  0.084431  5.376425e+04        4838.40   \n",
       "\n",
       "                   c  \n",
       "1986-03-13  0.084431  \n",
       "1986-03-14  0.089993  \n",
       "1986-03-17  0.089993  \n",
       "1986-03-18  0.089993  \n",
       "1986-03-19  0.089993  "
      ]
     },
     "execution_count": 19,
     "metadata": {},
     "output_type": "execute_result"
    }
   ],
   "source": [
    "ts.df['open_interest'] = ts.df['c'] * ts.df['volume']\n",
    "ts.df = ts.df[['o', 'hi', 'lo', 'volume', 'open_interest', 'c']]\n",
    "ts.df.head()"
   ]
  },
  {
   "cell_type": "markdown",
   "metadata": {},
   "source": [
    "Normalize the data prior to feeding into model"
   ]
  },
  {
   "cell_type": "code",
   "execution_count": 20,
   "metadata": {},
   "outputs": [],
   "source": [
    "def standard_scaler(X_train, X_test):\n",
    "    train_samples, train_nx, train_ny = X_train.shape\n",
    "    test_samples, test_nx, test_ny = X_test.shape\n",
    "    X_train = X_train.reshape((train_samples, train_nx * train_ny))\n",
    "    X_test = X_test.reshape((test_samples, test_nx * test_ny))\n",
    "    preprocessor = prep.StandardScaler().fit(X_train)\n",
    "    X_train = preprocessor.transform(X_train)\n",
    "    X_test = preprocessor.transform(X_test)\n",
    "    \n",
    "    X_train = X_train.reshape((train_samples, train_nx, train_ny))\n",
    "    X_test = X_test.reshape((test_samples, test_nx, test_ny))\n",
    "    return X_train, X_test, preprocessor"
   ]
  },
  {
   "cell_type": "markdown",
   "metadata": {},
   "source": [
    "Split the data intoX_train, y_train, X_test, y_test"
   ]
  },
  {
   "cell_type": "code",
   "execution_count": 21,
   "metadata": {},
   "outputs": [],
   "source": [
    "def preprocess_data(stock, seq_len):\n",
    "    amount_of_features = len(stock.columns)\n",
    "    data = stock.values\n",
    "    \n",
    "    sequence_length = seq_len + 1\n",
    "    result = []\n",
    "    for index in range(len(data) - sequence_length):\n",
    "        result.append(data[index : index + sequence_length])\n",
    "    result = np.array(result)\n",
    "    row = round(0.95 * result.shape[0])\n",
    "    train = result[: int(row), :]\n",
    "    \n",
    "    train, result, preprocessor = standard_scaler(train, result)\n",
    "    \n",
    "    X_train = train[:, : -1]\n",
    "    y_train = train[:, -1][: ,-1]\n",
    "    X_test = result[int(row) :, : -1]\n",
    "    y_test = result[int(row) :, -1][ : ,-1]\n",
    "\n",
    "    X_train = np.reshape(X_train, (X_train.shape[0], X_train.shape[1], amount_of_features))\n",
    "    X_test = np.reshape(X_test, (X_test.shape[0], X_test.shape[1], amount_of_features))  \n",
    "\n",
    "    return [X_train, y_train, X_test, y_test, preprocessor]"
   ]
  },
  {
   "cell_type": "markdown",
   "metadata": {},
   "source": [
    "## Build the LSTM Network\n",
    "\n",
    "Here we will build a simple RNN with 2 LSTM layers.\n",
    "The architecture is:\n",
    "    \n",
    "    LSTM --> Dropout --> LSTM --> Dropout --> Fully-Connected(Dense)"
   ]
  },
  {
   "cell_type": "code",
   "execution_count": 95,
   "metadata": {},
   "outputs": [],
   "source": [
    "def build_model(layers):\n",
    "    model = Sequential()\n",
    "\n",
    "    # By setting return_sequences to True we are able to stack another LSTM layer\n",
    "    model.add(LSTM(\n",
    "        input_dim=layers[0],\n",
    "        output_dim=layers[1],\n",
    "        return_sequences=True))\n",
    "    model.add(Dropout(0.5))\n",
    "\n",
    "    model.add(LSTM(\n",
    "        layers[2],\n",
    "        return_sequences=False))\n",
    "    model.add(Dropout(0.35))\n",
    "\n",
    "    model.add(Dense(\n",
    "        output_dim=layers[3]))\n",
    "    model.add(Activation(\"linear\"))\n",
    "\n",
    "    start = time.time()\n",
    "    model.compile(loss=\"mse\", optimizer=\"rmsprop\", metrics=['accuracy'])\n",
    "    print(\"Compilation Time : \", time.time() - start)\n",
    "    return model"
   ]
  },
  {
   "cell_type": "code",
   "execution_count": 96,
   "metadata": {},
   "outputs": [
    {
     "name": "stdout",
     "output_type": "stream",
     "text": [
      "('X_train', (7784, 50, 6))\n",
      "('y_train', (7784,))\n",
      "('X_test', (410, 50, 6))\n",
      "('y_test', (410,))\n"
     ]
    }
   ],
   "source": [
    "window = 50\n",
    "X_train, y_train, X_test, y_test, preprocessor = preprocess_data(ts.df, window)\n",
    "print(\"X_train\", X_train.shape)\n",
    "print(\"y_train\", y_train.shape)\n",
    "print(\"X_test\", X_test.shape)\n",
    "print(\"y_test\", y_test.shape)"
   ]
  },
  {
   "cell_type": "code",
   "execution_count": 97,
   "metadata": {},
   "outputs": [
    {
     "name": "stderr",
     "output_type": "stream",
     "text": [
      "/home/cma/.envs/venv-ml/lib/python2.7/site-packages/ipykernel_launcher.py:8: UserWarning: The `input_dim` and `input_length` arguments in recurrent layers are deprecated. Use `input_shape` instead.\n",
      "  \n",
      "/home/cma/.envs/venv-ml/lib/python2.7/site-packages/ipykernel_launcher.py:8: UserWarning: Update your `LSTM` call to the Keras 2 API: `LSTM(units=50, return_sequences=True, input_shape=(None, 6))`\n",
      "  \n"
     ]
    },
    {
     "name": "stdout",
     "output_type": "stream",
     "text": [
      "('Compilation Time : ', 0.017262935638427734)\n"
     ]
    },
    {
     "name": "stderr",
     "output_type": "stream",
     "text": [
      "/home/cma/.envs/venv-ml/lib/python2.7/site-packages/ipykernel_launcher.py:17: UserWarning: Update your `Dense` call to the Keras 2 API: `Dense(units=1)`\n"
     ]
    }
   ],
   "source": [
    "model = build_model([X_train.shape[2], window, 200, 1])"
   ]
  },
  {
   "cell_type": "markdown",
   "metadata": {},
   "source": [
    "## Training the Network"
   ]
  },
  {
   "cell_type": "code",
   "execution_count": 98,
   "metadata": {},
   "outputs": [
    {
     "name": "stdout",
     "output_type": "stream",
     "text": [
      "Train on 7005 samples, validate on 779 samples\n",
      "Epoch 1/200\n",
      "7005/7005 [==============================] - 14s 2ms/step - loss: 0.3041 - acc: 0.0000e+00 - val_loss: 0.3385 - val_acc: 0.0000e+00\n",
      "Epoch 2/200\n",
      "7005/7005 [==============================] - 12s 2ms/step - loss: 0.0165 - acc: 0.0000e+00 - val_loss: 0.2786 - val_acc: 0.0000e+00\n",
      "Epoch 3/200\n",
      "7005/7005 [==============================] - 13s 2ms/step - loss: 0.0151 - acc: 0.0000e+00 - val_loss: 0.1756 - val_acc: 0.0000e+00\n",
      "Epoch 4/200\n",
      "7005/7005 [==============================] - 12s 2ms/step - loss: 0.0225 - acc: 0.0000e+00 - val_loss: 0.2673 - val_acc: 0.0000e+00\n",
      "Epoch 5/200\n",
      "7005/7005 [==============================] - 11s 2ms/step - loss: 0.0213 - acc: 0.0000e+00 - val_loss: 0.0439 - val_acc: 0.0000e+00\n",
      "Epoch 6/200\n",
      "7005/7005 [==============================] - 11s 2ms/step - loss: 0.0269 - acc: 0.0000e+00 - val_loss: 0.2513 - val_acc: 0.0000e+00\n",
      "Epoch 7/200\n",
      "7005/7005 [==============================] - 11s 2ms/step - loss: 0.0242 - acc: 0.0000e+00 - val_loss: 0.0458 - val_acc: 0.0000e+00\n",
      "Epoch 8/200\n",
      "7005/7005 [==============================] - 13s 2ms/step - loss: 0.0259 - acc: 0.0000e+00 - val_loss: 0.2203 - val_acc: 0.0000e+00\n",
      "Epoch 9/200\n",
      "7005/7005 [==============================] - 11s 2ms/step - loss: 0.0224 - acc: 0.0000e+00 - val_loss: 0.0375 - val_acc: 0.0000e+00\n",
      "Epoch 10/200\n",
      "7005/7005 [==============================] - 11s 2ms/step - loss: 0.0235 - acc: 0.0000e+00 - val_loss: 0.1600 - val_acc: 0.0000e+00\n",
      "Epoch 11/200\n",
      "7005/7005 [==============================] - 12s 2ms/step - loss: 0.0218 - acc: 0.0000e+00 - val_loss: 0.0393 - val_acc: 0.0000e+00\n",
      "Epoch 12/200\n",
      "7005/7005 [==============================] - 12s 2ms/step - loss: 0.0230 - acc: 0.0000e+00 - val_loss: 0.2696 - val_acc: 0.0000e+00\n",
      "Epoch 13/200\n",
      "7005/7005 [==============================] - 13s 2ms/step - loss: 0.0202 - acc: 0.0000e+00 - val_loss: 0.0525 - val_acc: 0.0000e+00\n",
      "Epoch 14/200\n",
      "7005/7005 [==============================] - 13s 2ms/step - loss: 0.0202 - acc: 0.0000e+00 - val_loss: 0.2065 - val_acc: 0.0000e+00\n",
      "Epoch 15/200\n",
      "7005/7005 [==============================] - 15s 2ms/step - loss: 0.0209 - acc: 0.0000e+00 - val_loss: 0.0359 - val_acc: 0.0000e+00\n",
      "Epoch 16/200\n",
      "7005/7005 [==============================] - 14s 2ms/step - loss: 0.0186 - acc: 0.0000e+00 - val_loss: 0.3060 - val_acc: 0.0000e+00\n",
      "Epoch 17/200\n",
      "7005/7005 [==============================] - 15s 2ms/step - loss: 0.0198 - acc: 0.0000e+00 - val_loss: 0.0276 - val_acc: 0.0000e+00\n",
      "Epoch 18/200\n",
      "7005/7005 [==============================] - 14s 2ms/step - loss: 0.0185 - acc: 0.0000e+00 - val_loss: 0.2141 - val_acc: 0.0000e+00\n",
      "Epoch 19/200\n",
      "7005/7005 [==============================] - 15s 2ms/step - loss: 0.0190 - acc: 0.0000e+00 - val_loss: 0.0292 - val_acc: 0.0000e+00\n",
      "Epoch 20/200\n",
      "7005/7005 [==============================] - 14s 2ms/step - loss: 0.0150 - acc: 0.0000e+00 - val_loss: 0.2707 - val_acc: 0.0000e+00\n",
      "Epoch 21/200\n",
      "7005/7005 [==============================] - 15s 2ms/step - loss: 0.0219 - acc: 0.0000e+00 - val_loss: 0.0274 - val_acc: 0.0000e+00\n",
      "Epoch 22/200\n",
      "7005/7005 [==============================] - 16s 2ms/step - loss: 0.0147 - acc: 0.0000e+00 - val_loss: 0.1088 - val_acc: 0.0000e+00\n",
      "Epoch 23/200\n",
      "7005/7005 [==============================] - 18s 3ms/step - loss: 0.0187 - acc: 0.0000e+00 - val_loss: 0.0295 - val_acc: 0.0000e+00\n",
      "Epoch 24/200\n",
      "7005/7005 [==============================] - 18s 3ms/step - loss: 0.0179 - acc: 0.0000e+00 - val_loss: 0.1446 - val_acc: 0.0000e+00\n",
      "Epoch 25/200\n",
      "7005/7005 [==============================] - 17s 2ms/step - loss: 0.0141 - acc: 0.0000e+00 - val_loss: 0.0216 - val_acc: 0.0000e+00\n",
      "Epoch 26/200\n",
      "7005/7005 [==============================] - 18s 3ms/step - loss: 0.0178 - acc: 0.0000e+00 - val_loss: 0.1137 - val_acc: 0.0000e+00\n",
      "Epoch 27/200\n",
      "7005/7005 [==============================] - 17s 2ms/step - loss: 0.0144 - acc: 0.0000e+00 - val_loss: 0.0172 - val_acc: 0.0000e+00\n",
      "Epoch 28/200\n",
      "7005/7005 [==============================] - 15s 2ms/step - loss: 0.0164 - acc: 0.0000e+00 - val_loss: 0.0678 - val_acc: 0.0000e+00\n",
      "Epoch 29/200\n",
      "7005/7005 [==============================] - 15s 2ms/step - loss: 0.0173 - acc: 0.0000e+00 - val_loss: 0.0395 - val_acc: 0.0000e+00\n",
      "Epoch 30/200\n",
      "7005/7005 [==============================] - 17s 2ms/step - loss: 0.0140 - acc: 0.0000e+00 - val_loss: 0.0939 - val_acc: 0.0000e+00\n",
      "Epoch 31/200\n",
      "7005/7005 [==============================] - 16s 2ms/step - loss: 0.0148 - acc: 0.0000e+00 - val_loss: 0.0254 - val_acc: 0.0000e+00\n",
      "Epoch 32/200\n",
      "7005/7005 [==============================] - 15s 2ms/step - loss: 0.0182 - acc: 0.0000e+00 - val_loss: 0.2414 - val_acc: 0.0000e+00\n",
      "Epoch 33/200\n",
      "7005/7005 [==============================] - 14s 2ms/step - loss: 0.0134 - acc: 0.0000e+00 - val_loss: 0.0145 - val_acc: 0.0000e+00\n",
      "Epoch 34/200\n",
      "7005/7005 [==============================] - 14s 2ms/step - loss: 0.0142 - acc: 0.0000e+00 - val_loss: 0.1079 - val_acc: 0.0000e+00\n",
      "Epoch 35/200\n",
      "7005/7005 [==============================] - 14s 2ms/step - loss: 0.0152 - acc: 0.0000e+00 - val_loss: 0.0145 - val_acc: 0.0000e+00\n",
      "Epoch 36/200\n",
      "7005/7005 [==============================] - 14s 2ms/step - loss: 0.0151 - acc: 0.0000e+00 - val_loss: 0.0800 - val_acc: 0.0000e+00\n",
      "Epoch 37/200\n",
      "7005/7005 [==============================] - 17s 2ms/step - loss: 0.0112 - acc: 0.0000e+00 - val_loss: 0.0112 - val_acc: 0.0000e+00\n",
      "Epoch 38/200\n",
      "7005/7005 [==============================] - 14s 2ms/step - loss: 0.0173 - acc: 0.0000e+00 - val_loss: 0.1667 - val_acc: 0.0000e+00\n",
      "Epoch 39/200\n",
      "7005/7005 [==============================] - 15s 2ms/step - loss: 0.0122 - acc: 0.0000e+00 - val_loss: 0.0117 - val_acc: 0.0000e+00\n",
      "Epoch 40/200\n",
      "7005/7005 [==============================] - 14s 2ms/step - loss: 0.0458 - acc: 0.0000e+00 - val_loss: 0.0643 - val_acc: 0.0000e+00\n",
      "Epoch 41/200\n",
      "7005/7005 [==============================] - 14s 2ms/step - loss: 0.0115 - acc: 0.0000e+00 - val_loss: 0.0380 - val_acc: 0.0000e+00\n",
      "Epoch 42/200\n",
      "7005/7005 [==============================] - 14s 2ms/step - loss: 0.0107 - acc: 0.0000e+00 - val_loss: 0.0343 - val_acc: 0.0000e+00\n",
      "Epoch 43/200\n",
      "7005/7005 [==============================] - 14s 2ms/step - loss: 0.0120 - acc: 0.0000e+00 - val_loss: 0.0120 - val_acc: 0.0000e+00\n",
      "Epoch 44/200\n",
      "7005/7005 [==============================] - 19s 3ms/step - loss: 0.0115 - acc: 0.0000e+00 - val_loss: 0.0777 - val_acc: 0.0000e+00\n",
      "Epoch 45/200\n",
      "7005/7005 [==============================] - 15s 2ms/step - loss: 0.0122 - acc: 0.0000e+00 - val_loss: 0.0152 - val_acc: 0.0000e+00\n",
      "Epoch 46/200\n",
      "7005/7005 [==============================] - 15s 2ms/step - loss: 0.0123 - acc: 0.0000e+00 - val_loss: 0.1527 - val_acc: 0.0000e+00\n",
      "Epoch 47/200\n",
      "7005/7005 [==============================] - 14s 2ms/step - loss: 0.0136 - acc: 0.0000e+00 - val_loss: 0.0115 - val_acc: 0.0000e+00\n",
      "Epoch 48/200\n",
      "7005/7005 [==============================] - 17s 2ms/step - loss: 0.0136 - acc: 0.0000e+00 - val_loss: 0.0655 - val_acc: 0.0000e+00\n",
      "Epoch 49/200\n",
      "7005/7005 [==============================] - 17s 2ms/step - loss: 0.0127 - acc: 0.0000e+00 - val_loss: 0.0152 - val_acc: 0.0000e+00\n",
      "Epoch 50/200\n",
      "7005/7005 [==============================] - 18s 3ms/step - loss: 0.0129 - acc: 0.0000e+00 - val_loss: 0.0775 - val_acc: 0.0000e+00\n",
      "Epoch 51/200\n",
      "7005/7005 [==============================] - 19s 3ms/step - loss: 0.0130 - acc: 0.0000e+00 - val_loss: 0.0132 - val_acc: 0.0000e+00\n",
      "Epoch 52/200\n",
      "7005/7005 [==============================] - 17s 2ms/step - loss: 0.0126 - acc: 0.0000e+00 - val_loss: 0.1208 - val_acc: 0.0000e+00\n",
      "Epoch 53/200\n",
      "7005/7005 [==============================] - 15s 2ms/step - loss: 0.0145 - acc: 0.0000e+00 - val_loss: 0.0150 - val_acc: 0.0000e+00\n",
      "Epoch 54/200\n",
      "7005/7005 [==============================] - 16s 2ms/step - loss: 0.0119 - acc: 0.0000e+00 - val_loss: 0.0352 - val_acc: 0.0000e+00\n",
      "Epoch 55/200\n",
      "7005/7005 [==============================] - 15s 2ms/step - loss: 0.0122 - acc: 0.0000e+00 - val_loss: 0.0117 - val_acc: 0.0000e+00\n",
      "Epoch 56/200\n",
      "7005/7005 [==============================] - 15s 2ms/step - loss: 0.0143 - acc: 0.0000e+00 - val_loss: 0.0822 - val_acc: 0.0000e+00\n",
      "Epoch 57/200\n"
     ]
    },
    {
     "name": "stdout",
     "output_type": "stream",
     "text": [
      "7005/7005 [==============================] - 14s 2ms/step - loss: 0.0107 - acc: 0.0000e+00 - val_loss: 0.0243 - val_acc: 0.0000e+00\n",
      "Epoch 58/200\n",
      "7005/7005 [==============================] - 15s 2ms/step - loss: 0.0127 - acc: 0.0000e+00 - val_loss: 0.0365 - val_acc: 0.0000e+00\n",
      "Epoch 59/200\n",
      "7005/7005 [==============================] - 14s 2ms/step - loss: 0.0117 - acc: 0.0000e+00 - val_loss: 0.0133 - val_acc: 0.0000e+00\n",
      "Epoch 60/200\n",
      "7005/7005 [==============================] - 14s 2ms/step - loss: 0.0128 - acc: 0.0000e+00 - val_loss: 0.0676 - val_acc: 0.0000e+00\n",
      "Epoch 61/200\n",
      "7005/7005 [==============================] - 12s 2ms/step - loss: 0.0096 - acc: 0.0000e+00 - val_loss: 0.0146 - val_acc: 0.0000e+00\n",
      "Epoch 62/200\n",
      "7005/7005 [==============================] - 12s 2ms/step - loss: 0.0153 - acc: 0.0000e+00 - val_loss: 0.0721 - val_acc: 0.0000e+00\n",
      "Epoch 63/200\n",
      "7005/7005 [==============================] - 12s 2ms/step - loss: 0.0099 - acc: 0.0000e+00 - val_loss: 0.0107 - val_acc: 0.0000e+00\n",
      "Epoch 64/200\n",
      "7005/7005 [==============================] - 12s 2ms/step - loss: 0.0123 - acc: 0.0000e+00 - val_loss: 0.0751 - val_acc: 0.0000e+00\n",
      "Epoch 65/200\n",
      "7005/7005 [==============================] - 12s 2ms/step - loss: 0.0090 - acc: 0.0000e+00 - val_loss: 0.0262 - val_acc: 0.0000e+00\n",
      "Epoch 66/200\n",
      "7005/7005 [==============================] - 12s 2ms/step - loss: 0.0143 - acc: 0.0000e+00 - val_loss: 0.1001 - val_acc: 0.0000e+00\n",
      "Epoch 67/200\n",
      "7005/7005 [==============================] - 12s 2ms/step - loss: 0.0091 - acc: 0.0000e+00 - val_loss: 0.0142 - val_acc: 0.0000e+00\n",
      "Epoch 68/200\n",
      "7005/7005 [==============================] - 12s 2ms/step - loss: 0.0119 - acc: 0.0000e+00 - val_loss: 0.0652 - val_acc: 0.0000e+00\n",
      "Epoch 69/200\n",
      "7005/7005 [==============================] - 12s 2ms/step - loss: 0.0104 - acc: 0.0000e+00 - val_loss: 0.0101 - val_acc: 0.0000e+00\n",
      "Epoch 70/200\n",
      "7005/7005 [==============================] - 12s 2ms/step - loss: 0.0112 - acc: 0.0000e+00 - val_loss: 0.0650 - val_acc: 0.0000e+00\n",
      "Epoch 71/200\n",
      "7005/7005 [==============================] - 12s 2ms/step - loss: 0.0108 - acc: 0.0000e+00 - val_loss: 0.0269 - val_acc: 0.0000e+00\n",
      "Epoch 72/200\n",
      "7005/7005 [==============================] - 13s 2ms/step - loss: 0.0118 - acc: 0.0000e+00 - val_loss: 0.0431 - val_acc: 0.0000e+00\n",
      "Epoch 73/200\n",
      "7005/7005 [==============================] - 12s 2ms/step - loss: 0.0097 - acc: 0.0000e+00 - val_loss: 0.0117 - val_acc: 0.0000e+00\n",
      "Epoch 74/200\n",
      "7005/7005 [==============================] - 12s 2ms/step - loss: 0.0113 - acc: 0.0000e+00 - val_loss: 0.1028 - val_acc: 0.0000e+00\n",
      "Epoch 75/200\n",
      "7005/7005 [==============================] - 12s 2ms/step - loss: 0.0093 - acc: 0.0000e+00 - val_loss: 0.0185 - val_acc: 0.0000e+00\n",
      "Epoch 76/200\n",
      "7005/7005 [==============================] - 12s 2ms/step - loss: 0.0125 - acc: 0.0000e+00 - val_loss: 0.0322 - val_acc: 0.0000e+00\n",
      "Epoch 77/200\n",
      "7005/7005 [==============================] - 12s 2ms/step - loss: 0.0096 - acc: 0.0000e+00 - val_loss: 0.0119 - val_acc: 0.0000e+00\n",
      "Epoch 78/200\n",
      "7005/7005 [==============================] - 12s 2ms/step - loss: 0.0107 - acc: 0.0000e+00 - val_loss: 0.0438 - val_acc: 0.0000e+00\n",
      "Epoch 79/200\n",
      "7005/7005 [==============================] - 12s 2ms/step - loss: 0.0107 - acc: 0.0000e+00 - val_loss: 0.0077 - val_acc: 0.0000e+00\n",
      "Epoch 80/200\n",
      "7005/7005 [==============================] - 12s 2ms/step - loss: 0.0092 - acc: 0.0000e+00 - val_loss: 0.0552 - val_acc: 0.0000e+00\n",
      "Epoch 81/200\n",
      "7005/7005 [==============================] - 12s 2ms/step - loss: 0.0111 - acc: 0.0000e+00 - val_loss: 0.0262 - val_acc: 0.0000e+00\n",
      "Epoch 82/200\n",
      "7005/7005 [==============================] - 12s 2ms/step - loss: 0.0087 - acc: 0.0000e+00 - val_loss: 0.1701 - val_acc: 0.0000e+00\n",
      "Epoch 83/200\n",
      "7005/7005 [==============================] - 12s 2ms/step - loss: 0.0102 - acc: 0.0000e+00 - val_loss: 0.0127 - val_acc: 0.0000e+00\n",
      "Epoch 84/200\n",
      "7005/7005 [==============================] - 12s 2ms/step - loss: 0.0101 - acc: 0.0000e+00 - val_loss: 0.1473 - val_acc: 0.0000e+00\n",
      "Epoch 85/200\n",
      "7005/7005 [==============================] - 12s 2ms/step - loss: 0.0087 - acc: 0.0000e+00 - val_loss: 0.0091 - val_acc: 0.0000e+00\n",
      "Epoch 86/200\n",
      "7005/7005 [==============================] - 13s 2ms/step - loss: 0.0111 - acc: 0.0000e+00 - val_loss: 0.0393 - val_acc: 0.0000e+00\n",
      "Epoch 87/200\n",
      "7005/7005 [==============================] - 12s 2ms/step - loss: 0.0082 - acc: 0.0000e+00 - val_loss: 0.0090 - val_acc: 0.0000e+00\n",
      "Epoch 88/200\n",
      "7005/7005 [==============================] - 12s 2ms/step - loss: 0.0111 - acc: 0.0000e+00 - val_loss: 0.0476 - val_acc: 0.0000e+00\n",
      "Epoch 89/200\n",
      "7005/7005 [==============================] - 13s 2ms/step - loss: 0.0083 - acc: 0.0000e+00 - val_loss: 0.0152 - val_acc: 0.0000e+00\n",
      "Epoch 90/200\n",
      "7005/7005 [==============================] - 12s 2ms/step - loss: 0.0112 - acc: 0.0000e+00 - val_loss: 0.0322 - val_acc: 0.0000e+00\n",
      "Epoch 91/200\n",
      "7005/7005 [==============================] - 12s 2ms/step - loss: 0.0087 - acc: 0.0000e+00 - val_loss: 0.0085 - val_acc: 0.0000e+00\n",
      "Epoch 92/200\n",
      "7005/7005 [==============================] - 12s 2ms/step - loss: 0.0091 - acc: 0.0000e+00 - val_loss: 0.0276 - val_acc: 0.0000e+00\n",
      "Epoch 93/200\n",
      "7005/7005 [==============================] - 12s 2ms/step - loss: 0.0097 - acc: 0.0000e+00 - val_loss: 0.0154 - val_acc: 0.0000e+00\n",
      "Epoch 94/200\n",
      "7005/7005 [==============================] - 12s 2ms/step - loss: 0.0099 - acc: 0.0000e+00 - val_loss: 0.0455 - val_acc: 0.0000e+00\n",
      "Epoch 95/200\n",
      "7005/7005 [==============================] - 12s 2ms/step - loss: 0.0087 - acc: 0.0000e+00 - val_loss: 0.0150 - val_acc: 0.0000e+00\n",
      "Epoch 96/200\n",
      "7005/7005 [==============================] - 18s 3ms/step - loss: 0.0094 - acc: 0.0000e+00 - val_loss: 0.0989 - val_acc: 0.0000e+00\n",
      "Epoch 97/200\n",
      "7005/7005 [==============================] - 12s 2ms/step - loss: 0.0104 - acc: 0.0000e+00 - val_loss: 0.0073 - val_acc: 0.0000e+00\n",
      "Epoch 98/200\n",
      "7005/7005 [==============================] - 12s 2ms/step - loss: 0.0083 - acc: 0.0000e+00 - val_loss: 0.0347 - val_acc: 0.0000e+00\n",
      "Epoch 99/200\n",
      "7005/7005 [==============================] - 12s 2ms/step - loss: 0.0084 - acc: 0.0000e+00 - val_loss: 0.0066 - val_acc: 0.0000e+00\n",
      "Epoch 100/200\n",
      "7005/7005 [==============================] - 12s 2ms/step - loss: 0.0100 - acc: 0.0000e+00 - val_loss: 0.0555 - val_acc: 0.0000e+00\n",
      "Epoch 101/200\n",
      "7005/7005 [==============================] - 12s 2ms/step - loss: 0.0079 - acc: 0.0000e+00 - val_loss: 0.0158 - val_acc: 0.0000e+00\n",
      "Epoch 102/200\n",
      "7005/7005 [==============================] - 12s 2ms/step - loss: 0.0094 - acc: 0.0000e+00 - val_loss: 0.0950 - val_acc: 0.0000e+00\n",
      "Epoch 103/200\n",
      "7005/7005 [==============================] - 12s 2ms/step - loss: 0.0087 - acc: 0.0000e+00 - val_loss: 0.0225 - val_acc: 0.0000e+00\n",
      "Epoch 104/200\n",
      "7005/7005 [==============================] - 12s 2ms/step - loss: 0.0091 - acc: 0.0000e+00 - val_loss: 0.0479 - val_acc: 0.0000e+00\n",
      "Epoch 105/200\n",
      "7005/7005 [==============================] - 12s 2ms/step - loss: 0.0089 - acc: 0.0000e+00 - val_loss: 0.0078 - val_acc: 0.0000e+00\n",
      "Epoch 106/200\n",
      "7005/7005 [==============================] - 12s 2ms/step - loss: 0.0082 - acc: 0.0000e+00 - val_loss: 0.0856 - val_acc: 0.0000e+00\n",
      "Epoch 107/200\n",
      "7005/7005 [==============================] - 12s 2ms/step - loss: 0.0093 - acc: 0.0000e+00 - val_loss: 0.0083 - val_acc: 0.0000e+00\n",
      "Epoch 108/200\n",
      "7005/7005 [==============================] - 12s 2ms/step - loss: 0.0078 - acc: 0.0000e+00 - val_loss: 0.0427 - val_acc: 0.0000e+00\n",
      "Epoch 109/200\n",
      "7005/7005 [==============================] - 12s 2ms/step - loss: 0.0088 - acc: 0.0000e+00 - val_loss: 0.0107 - val_acc: 0.0000e+00\n",
      "Epoch 110/200\n",
      "7005/7005 [==============================] - 12s 2ms/step - loss: 0.0108 - acc: 0.0000e+00 - val_loss: 0.0145 - val_acc: 0.0000e+00\n",
      "Epoch 111/200\n",
      "7005/7005 [==============================] - 12s 2ms/step - loss: 0.0069 - acc: 0.0000e+00 - val_loss: 0.0099 - val_acc: 0.0000e+00\n",
      "Epoch 112/200\n",
      "7005/7005 [==============================] - 12s 2ms/step - loss: 0.0072 - acc: 0.0000e+00 - val_loss: 0.0931 - val_acc: 0.0000e+00\n",
      "Epoch 113/200\n"
     ]
    },
    {
     "name": "stdout",
     "output_type": "stream",
     "text": [
      "7005/7005 [==============================] - 12s 2ms/step - loss: 0.0101 - acc: 0.0000e+00 - val_loss: 0.0189 - val_acc: 0.0000e+00\n",
      "Epoch 114/200\n",
      "7005/7005 [==============================] - 12s 2ms/step - loss: 0.0077 - acc: 0.0000e+00 - val_loss: 0.0986 - val_acc: 0.0000e+00\n",
      "Epoch 115/200\n",
      "7005/7005 [==============================] - 12s 2ms/step - loss: 0.0088 - acc: 0.0000e+00 - val_loss: 0.0166 - val_acc: 0.0000e+00\n",
      "Epoch 116/200\n",
      "7005/7005 [==============================] - 12s 2ms/step - loss: 0.0075 - acc: 0.0000e+00 - val_loss: 0.0327 - val_acc: 0.0000e+00\n",
      "Epoch 117/200\n",
      "7005/7005 [==============================] - 12s 2ms/step - loss: 0.0096 - acc: 0.0000e+00 - val_loss: 0.0106 - val_acc: 0.0000e+00\n",
      "Epoch 118/200\n",
      "7005/7005 [==============================] - 12s 2ms/step - loss: 0.0084 - acc: 0.0000e+00 - val_loss: 0.0703 - val_acc: 0.0000e+00\n",
      "Epoch 119/200\n",
      "7005/7005 [==============================] - 12s 2ms/step - loss: 0.0080 - acc: 0.0000e+00 - val_loss: 0.0059 - val_acc: 0.0000e+00\n",
      "Epoch 120/200\n",
      "7005/7005 [==============================] - 12s 2ms/step - loss: 0.0082 - acc: 0.0000e+00 - val_loss: 0.0929 - val_acc: 0.0000e+00\n",
      "Epoch 121/200\n",
      "7005/7005 [==============================] - 12s 2ms/step - loss: 0.0092 - acc: 0.0000e+00 - val_loss: 0.0070 - val_acc: 0.0000e+00\n",
      "Epoch 122/200\n",
      "7005/7005 [==============================] - 12s 2ms/step - loss: 0.0070 - acc: 0.0000e+00 - val_loss: 0.0491 - val_acc: 0.0000e+00\n",
      "Epoch 123/200\n",
      "7005/7005 [==============================] - 12s 2ms/step - loss: 0.0089 - acc: 0.0000e+00 - val_loss: 0.0085 - val_acc: 0.0000e+00\n",
      "Epoch 124/200\n",
      "7005/7005 [==============================] - 12s 2ms/step - loss: 0.0085 - acc: 0.0000e+00 - val_loss: 0.1313 - val_acc: 0.0000e+00\n",
      "Epoch 125/200\n",
      "7005/7005 [==============================] - 12s 2ms/step - loss: 0.0080 - acc: 0.0000e+00 - val_loss: 0.0089 - val_acc: 0.0000e+00\n",
      "Epoch 126/200\n",
      "7005/7005 [==============================] - 12s 2ms/step - loss: 0.0076 - acc: 0.0000e+00 - val_loss: 0.0585 - val_acc: 0.0000e+00\n",
      "Epoch 127/200\n",
      "7005/7005 [==============================] - 12s 2ms/step - loss: 0.0080 - acc: 0.0000e+00 - val_loss: 0.0164 - val_acc: 0.0000e+00\n",
      "Epoch 128/200\n",
      "7005/7005 [==============================] - 12s 2ms/step - loss: 0.0088 - acc: 0.0000e+00 - val_loss: 0.0532 - val_acc: 0.0000e+00\n",
      "Epoch 129/200\n",
      "7005/7005 [==============================] - 12s 2ms/step - loss: 0.0078 - acc: 0.0000e+00 - val_loss: 0.0105 - val_acc: 0.0000e+00\n",
      "Epoch 130/200\n",
      "7005/7005 [==============================] - 12s 2ms/step - loss: 0.0080 - acc: 0.0000e+00 - val_loss: 0.1130 - val_acc: 0.0000e+00\n",
      "Epoch 131/200\n",
      "7005/7005 [==============================] - 12s 2ms/step - loss: 0.0070 - acc: 0.0000e+00 - val_loss: 0.0073 - val_acc: 0.0000e+00\n",
      "Epoch 132/200\n",
      "7005/7005 [==============================] - 12s 2ms/step - loss: 0.0083 - acc: 0.0000e+00 - val_loss: 0.1326 - val_acc: 0.0000e+00\n",
      "Epoch 133/200\n",
      "7005/7005 [==============================] - 12s 2ms/step - loss: 0.0072 - acc: 0.0000e+00 - val_loss: 0.0069 - val_acc: 0.0000e+00\n",
      "Epoch 134/200\n",
      "7005/7005 [==============================] - 12s 2ms/step - loss: 0.0100 - acc: 0.0000e+00 - val_loss: 0.0183 - val_acc: 0.0000e+00\n",
      "Epoch 135/200\n",
      "7005/7005 [==============================] - 12s 2ms/step - loss: 0.0056 - acc: 0.0000e+00 - val_loss: 0.0448 - val_acc: 0.0000e+00\n",
      "Epoch 136/200\n",
      "7005/7005 [==============================] - 12s 2ms/step - loss: 0.0089 - acc: 0.0000e+00 - val_loss: 0.0144 - val_acc: 0.0000e+00\n",
      "Epoch 137/200\n",
      "7005/7005 [==============================] - 12s 2ms/step - loss: 0.0074 - acc: 0.0000e+00 - val_loss: 0.0726 - val_acc: 0.0000e+00\n",
      "Epoch 138/200\n",
      "7005/7005 [==============================] - 12s 2ms/step - loss: 0.0073 - acc: 0.0000e+00 - val_loss: 0.0179 - val_acc: 0.0000e+00\n",
      "Epoch 139/200\n",
      "7005/7005 [==============================] - 12s 2ms/step - loss: 0.0085 - acc: 0.0000e+00 - val_loss: 0.0975 - val_acc: 0.0000e+00\n",
      "Epoch 140/200\n",
      "7005/7005 [==============================] - 12s 2ms/step - loss: 0.0079 - acc: 0.0000e+00 - val_loss: 0.0140 - val_acc: 0.0000e+00\n",
      "Epoch 141/200\n",
      "7005/7005 [==============================] - 12s 2ms/step - loss: 0.0065 - acc: 0.0000e+00 - val_loss: 0.0438 - val_acc: 0.0000e+00\n",
      "Epoch 142/200\n",
      "7005/7005 [==============================] - 12s 2ms/step - loss: 0.0086 - acc: 0.0000e+00 - val_loss: 0.0064 - val_acc: 0.0000e+00\n",
      "Epoch 143/200\n",
      "7005/7005 [==============================] - 12s 2ms/step - loss: 0.0070 - acc: 0.0000e+00 - val_loss: 0.0882 - val_acc: 0.0000e+00\n",
      "Epoch 144/200\n",
      "7005/7005 [==============================] - 12s 2ms/step - loss: 0.0066 - acc: 0.0000e+00 - val_loss: 0.0082 - val_acc: 0.0000e+00\n",
      "Epoch 145/200\n",
      "7005/7005 [==============================] - 12s 2ms/step - loss: 0.0089 - acc: 0.0000e+00 - val_loss: 0.0922 - val_acc: 0.0000e+00\n",
      "Epoch 146/200\n",
      "7005/7005 [==============================] - 12s 2ms/step - loss: 0.0070 - acc: 0.0000e+00 - val_loss: 0.0070 - val_acc: 0.0000e+00\n",
      "Epoch 147/200\n",
      "7005/7005 [==============================] - 12s 2ms/step - loss: 0.0077 - acc: 0.0000e+00 - val_loss: 0.0522 - val_acc: 0.0000e+00\n",
      "Epoch 148/200\n",
      "7005/7005 [==============================] - 12s 2ms/step - loss: 0.0088 - acc: 0.0000e+00 - val_loss: 0.0329 - val_acc: 0.0000e+00\n",
      "Epoch 149/200\n",
      "7005/7005 [==============================] - 12s 2ms/step - loss: 0.0056 - acc: 0.0000e+00 - val_loss: 0.0499 - val_acc: 0.0000e+00\n",
      "Epoch 150/200\n",
      "7005/7005 [==============================] - 12s 2ms/step - loss: 0.0086 - acc: 0.0000e+00 - val_loss: 0.0078 - val_acc: 0.0000e+00\n",
      "Epoch 151/200\n",
      "7005/7005 [==============================] - 12s 2ms/step - loss: 0.0067 - acc: 0.0000e+00 - val_loss: 0.0937 - val_acc: 0.0000e+00\n",
      "Epoch 152/200\n",
      "7005/7005 [==============================] - 12s 2ms/step - loss: 0.0081 - acc: 0.0000e+00 - val_loss: 0.0101 - val_acc: 0.0000e+00\n",
      "Epoch 153/200\n",
      "7005/7005 [==============================] - 12s 2ms/step - loss: 0.0078 - acc: 0.0000e+00 - val_loss: 0.0774 - val_acc: 0.0000e+00\n",
      "Epoch 154/200\n",
      "7005/7005 [==============================] - 12s 2ms/step - loss: 0.0063 - acc: 0.0000e+00 - val_loss: 0.0128 - val_acc: 0.0000e+00\n",
      "Epoch 155/200\n",
      "7005/7005 [==============================] - 12s 2ms/step - loss: 0.0082 - acc: 0.0000e+00 - val_loss: 0.0488 - val_acc: 0.0000e+00\n",
      "Epoch 156/200\n",
      "7005/7005 [==============================] - 12s 2ms/step - loss: 0.0063 - acc: 0.0000e+00 - val_loss: 0.0070 - val_acc: 0.0000e+00\n",
      "Epoch 157/200\n",
      "7005/7005 [==============================] - 12s 2ms/step - loss: 0.0078 - acc: 0.0000e+00 - val_loss: 0.0401 - val_acc: 0.0000e+00\n",
      "Epoch 158/200\n",
      "7005/7005 [==============================] - 12s 2ms/step - loss: 0.0080 - acc: 0.0000e+00 - val_loss: 0.0086 - val_acc: 0.0000e+00\n",
      "Epoch 159/200\n",
      "7005/7005 [==============================] - 12s 2ms/step - loss: 0.0074 - acc: 0.0000e+00 - val_loss: 0.0411 - val_acc: 0.0000e+00\n",
      "Epoch 160/200\n",
      "7005/7005 [==============================] - 12s 2ms/step - loss: 0.0070 - acc: 0.0000e+00 - val_loss: 0.0082 - val_acc: 0.0000e+00\n",
      "Epoch 161/200\n",
      "7005/7005 [==============================] - 12s 2ms/step - loss: 0.0082 - acc: 0.0000e+00 - val_loss: 0.0215 - val_acc: 0.0000e+00\n",
      "Epoch 162/200\n",
      "7005/7005 [==============================] - 12s 2ms/step - loss: 0.0069 - acc: 0.0000e+00 - val_loss: 0.0119 - val_acc: 0.0000e+00\n",
      "Epoch 163/200\n",
      "7005/7005 [==============================] - 12s 2ms/step - loss: 0.0068 - acc: 0.0000e+00 - val_loss: 0.0517 - val_acc: 0.0000e+00\n",
      "Epoch 164/200\n",
      "7005/7005 [==============================] - 12s 2ms/step - loss: 0.0074 - acc: 0.0000e+00 - val_loss: 0.0132 - val_acc: 0.0000e+00\n",
      "Epoch 165/200\n",
      "7005/7005 [==============================] - 12s 2ms/step - loss: 0.0076 - acc: 0.0000e+00 - val_loss: 0.0254 - val_acc: 0.0000e+00\n",
      "Epoch 166/200\n",
      "7005/7005 [==============================] - 12s 2ms/step - loss: 0.0072 - acc: 0.0000e+00 - val_loss: 0.0264 - val_acc: 0.0000e+00\n",
      "Epoch 167/200\n",
      "7005/7005 [==============================] - 12s 2ms/step - loss: 0.0063 - acc: 0.0000e+00 - val_loss: 0.0560 - val_acc: 0.0000e+00\n",
      "Epoch 168/200\n",
      "7005/7005 [==============================] - 12s 2ms/step - loss: 0.0081 - acc: 0.0000e+00 - val_loss: 0.0166 - val_acc: 0.0000e+00\n",
      "Epoch 169/200\n"
     ]
    },
    {
     "name": "stdout",
     "output_type": "stream",
     "text": [
      "7005/7005 [==============================] - 12s 2ms/step - loss: 0.0069 - acc: 0.0000e+00 - val_loss: 0.0779 - val_acc: 0.0000e+00\n",
      "Epoch 170/200\n",
      "7005/7005 [==============================] - 12s 2ms/step - loss: 0.0065 - acc: 0.0000e+00 - val_loss: 0.0079 - val_acc: 0.0000e+00\n",
      "Epoch 171/200\n",
      "7005/7005 [==============================] - 12s 2ms/step - loss: 0.0076 - acc: 0.0000e+00 - val_loss: 0.0565 - val_acc: 0.0000e+00\n",
      "Epoch 172/200\n",
      "7005/7005 [==============================] - 12s 2ms/step - loss: 0.0055 - acc: 0.0000e+00 - val_loss: 0.0058 - val_acc: 0.0000e+00\n",
      "Epoch 173/200\n",
      "7005/7005 [==============================] - 12s 2ms/step - loss: 0.0085 - acc: 0.0000e+00 - val_loss: 0.0349 - val_acc: 0.0000e+00\n",
      "Epoch 174/200\n",
      "7005/7005 [==============================] - 12s 2ms/step - loss: 0.0059 - acc: 0.0000e+00 - val_loss: 0.0086 - val_acc: 0.0000e+00\n",
      "Epoch 175/200\n",
      "7005/7005 [==============================] - 12s 2ms/step - loss: 0.0075 - acc: 0.0000e+00 - val_loss: 0.0387 - val_acc: 0.0000e+00\n",
      "Epoch 176/200\n",
      "7005/7005 [==============================] - 12s 2ms/step - loss: 0.0066 - acc: 0.0000e+00 - val_loss: 0.0223 - val_acc: 0.0000e+00\n",
      "Epoch 177/200\n",
      "7005/7005 [==============================] - 12s 2ms/step - loss: 0.0072 - acc: 0.0000e+00 - val_loss: 0.0655 - val_acc: 0.0000e+00\n",
      "Epoch 178/200\n",
      "7005/7005 [==============================] - 12s 2ms/step - loss: 0.0077 - acc: 0.0000e+00 - val_loss: 0.0056 - val_acc: 0.0000e+00\n",
      "Epoch 179/200\n",
      "7005/7005 [==============================] - 12s 2ms/step - loss: 0.0064 - acc: 0.0000e+00 - val_loss: 0.0296 - val_acc: 0.0000e+00\n",
      "Epoch 180/200\n",
      "7005/7005 [==============================] - 12s 2ms/step - loss: 0.0073 - acc: 0.0000e+00 - val_loss: 0.0067 - val_acc: 0.0000e+00\n",
      "Epoch 181/200\n",
      "7005/7005 [==============================] - 12s 2ms/step - loss: 0.0069 - acc: 0.0000e+00 - val_loss: 0.0652 - val_acc: 0.0000e+00\n",
      "Epoch 182/200\n",
      "7005/7005 [==============================] - 12s 2ms/step - loss: 0.0060 - acc: 0.0000e+00 - val_loss: 0.0090 - val_acc: 0.0000e+00\n",
      "Epoch 183/200\n",
      "7005/7005 [==============================] - 12s 2ms/step - loss: 0.0074 - acc: 0.0000e+00 - val_loss: 0.0710 - val_acc: 0.0000e+00\n",
      "Epoch 184/200\n",
      "7005/7005 [==============================] - 12s 2ms/step - loss: 0.0070 - acc: 0.0000e+00 - val_loss: 0.0077 - val_acc: 0.0000e+00\n",
      "Epoch 185/200\n",
      "7005/7005 [==============================] - 12s 2ms/step - loss: 0.0062 - acc: 0.0000e+00 - val_loss: 0.0835 - val_acc: 0.0000e+00\n",
      "Epoch 186/200\n",
      "7005/7005 [==============================] - 12s 2ms/step - loss: 0.0098 - acc: 0.0000e+00 - val_loss: 0.0301 - val_acc: 0.0000e+00\n",
      "Epoch 187/200\n",
      "7005/7005 [==============================] - 12s 2ms/step - loss: 0.0050 - acc: 0.0000e+00 - val_loss: 0.0230 - val_acc: 0.0000e+00\n",
      "Epoch 188/200\n",
      "7005/7005 [==============================] - 12s 2ms/step - loss: 0.0062 - acc: 0.0000e+00 - val_loss: 0.0096 - val_acc: 0.0000e+00\n",
      "Epoch 189/200\n",
      "7005/7005 [==============================] - 12s 2ms/step - loss: 0.0065 - acc: 0.0000e+00 - val_loss: 0.0107 - val_acc: 0.0000e+00\n",
      "Epoch 190/200\n",
      "7005/7005 [==============================] - 12s 2ms/step - loss: 0.0076 - acc: 0.0000e+00 - val_loss: 0.0607 - val_acc: 0.0000e+00\n",
      "Epoch 191/200\n",
      "7005/7005 [==============================] - 12s 2ms/step - loss: 0.0070 - acc: 0.0000e+00 - val_loss: 0.0192 - val_acc: 0.0000e+00\n",
      "Epoch 192/200\n",
      "7005/7005 [==============================] - 12s 2ms/step - loss: 0.0068 - acc: 0.0000e+00 - val_loss: 0.0073 - val_acc: 0.0000e+00\n",
      "Epoch 193/200\n",
      "7005/7005 [==============================] - 12s 2ms/step - loss: 0.0058 - acc: 0.0000e+00 - val_loss: 0.0533 - val_acc: 0.0000e+00\n",
      "Epoch 194/200\n",
      "7005/7005 [==============================] - 12s 2ms/step - loss: 0.0071 - acc: 0.0000e+00 - val_loss: 0.0116 - val_acc: 0.0000e+00\n",
      "Epoch 195/200\n",
      "7005/7005 [==============================] - 12s 2ms/step - loss: 0.0068 - acc: 0.0000e+00 - val_loss: 0.0331 - val_acc: 0.0000e+00\n",
      "Epoch 196/200\n",
      "7005/7005 [==============================] - 12s 2ms/step - loss: 0.0063 - acc: 0.0000e+00 - val_loss: 0.0070 - val_acc: 0.0000e+00\n",
      "Epoch 197/200\n",
      "7005/7005 [==============================] - 12s 2ms/step - loss: 0.0076 - acc: 0.0000e+00 - val_loss: 0.0584 - val_acc: 0.0000e+00\n",
      "Epoch 198/200\n",
      "7005/7005 [==============================] - 12s 2ms/step - loss: 0.0059 - acc: 0.0000e+00 - val_loss: 0.0109 - val_acc: 0.0000e+00\n",
      "Epoch 199/200\n",
      "7005/7005 [==============================] - 12s 2ms/step - loss: 0.0066 - acc: 0.0000e+00 - val_loss: 0.0550 - val_acc: 0.0000e+00\n",
      "Epoch 200/200\n",
      "7005/7005 [==============================] - 12s 2ms/step - loss: 0.0062 - acc: 0.0000e+00 - val_loss: 0.0099 - val_acc: 0.0000e+00\n"
     ]
    },
    {
     "data": {
      "text/plain": [
       "<keras.callbacks.History at 0x7f21c27d3110>"
      ]
     },
     "execution_count": 98,
     "metadata": {},
     "output_type": "execute_result"
    }
   ],
   "source": [
    "model.fit(\n",
    "    X_train,\n",
    "    y_train,\n",
    "    batch_size=1024,\n",
    "    epochs=200,\n",
    "    validation_split=0.1,\n",
    "    verbose=1)"
   ]
  },
  {
   "cell_type": "code",
   "execution_count": 99,
   "metadata": {},
   "outputs": [
    {
     "name": "stdout",
     "output_type": "stream",
     "text": [
      "7784/7784 [==============================] - 6s 716us/step\n",
      "Train Score: 0.00 MSE (0.07 RMSE)\n",
      "410/410 [==============================] - 0s 765us/step\n",
      "Test Score: 0.93 MSE (0.97 RMSE)\n"
     ]
    }
   ],
   "source": [
    "trainScore = model.evaluate(X_train, y_train, verbose=1)\n",
    "print('Train Score: %.2f MSE (%.2f RMSE)' % (trainScore[0], math.sqrt(trainScore[0])))\n",
    "\n",
    "testScore = model.evaluate(X_test, y_test, verbose=1)\n",
    "print('Test Score: %.2f MSE (%.2f RMSE)' % (testScore[0], math.sqrt(testScore[0])))"
   ]
  },
  {
   "cell_type": "code",
   "execution_count": 100,
   "metadata": {},
   "outputs": [],
   "source": [
    "diff = []\n",
    "ratio = []\n",
    "pred = model.predict(X_test)\n",
    "for u in range(len(y_test)):\n",
    "    pr = pred[u][0]\n",
    "    ratio.append((y_test[u] / pr) - 1)\n",
    "    diff.append(abs(y_test[u] - pr))"
   ]
  },
  {
   "cell_type": "code",
   "execution_count": 101,
   "metadata": {},
   "outputs": [],
   "source": [
    "# TODO: Scale it back"
   ]
  },
  {
   "cell_type": "code",
   "execution_count": 102,
   "metadata": {},
   "outputs": [
    {
     "data": {
      "image/png": "[encoded data removed]",
      "text/plain": [
       "<Figure size 432x288 with 1 Axes>"
      ]
     },
     "metadata": {},
     "output_type": "display_data"
    }
   ],
   "source": [
    "# if using within a jupyter notebook\n",
    "%matplotlib inline \n",
    "\n",
    "import matplotlib\n",
    "import matplotlib.pyplot as plt2\n",
    "\n",
    "plt2.plot(pred[180:250], color='red', label='Prediction')\n",
    "plt2.plot(y_test[180:250], color='blue', label='Ground Truth')\n",
    "plt2.legend(loc='upper left')\n",
    "plt2.show()"
   ]
  },
  {
   "cell_type": "code",
   "execution_count": 103,
   "metadata": {},
   "outputs": [
    {
     "data": {
      "image/png": "[encoded data removed]",
      "text/plain": [
       "<Figure size 432x288 with 1 Axes>"
      ]
     },
     "metadata": {},
     "output_type": "display_data"
    }
   ],
   "source": [
    "plt2.plot(pred, color='red', label='Prediction')\n",
    "plt2.plot(y_test, color='blue', label='Ground Truth')\n",
    "plt2.legend(loc='upper left')\n",
    "plt2.show()"
   ]
  },
  {
   "cell_type": "code",
   "execution_count": null,
   "metadata": {},
   "outputs": [],
   "source": []
  },
  {
   "cell_type": "code",
   "execution_count": null,
   "metadata": {},
   "outputs": [],
   "source": []
  }
 ],
 "metadata": {
  "kernelspec": {
   "display_name": "Python 2",
   "language": "python",
   "name": "python2"
  },
  "language_info": {
   "codemirror_mode": {
    "name": "ipython",
    "version": 2
   },
   "file_extension": ".py",
   "mimetype": "text/x-python",
   "name": "python",
   "nbconvert_exporter": "python",
   "pygments_lexer": "ipython2",
   "version": "2.7.12"
  }
 },
 "nbformat": 4,
 "nbformat_minor": 2
}
