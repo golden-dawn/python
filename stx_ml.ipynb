{
 "cells": [
  {
   "cell_type": "markdown",
   "metadata": {},
   "source": [
    "# STX ML\n",
    "To install:\n",
    "```\n",
    "mkvirtualenv venv-ml\n",
    "workon venv-ml\n",
    "pip install -r requirements.txt\n",
    "pip install -r requirements_ml.txt\n",
    "```\n",
    "Based on code from https://github.com/Kulbear/stock-prediction"
   ]
  },
  {
   "cell_type": "code",
   "execution_count": 1,
   "metadata": {},
   "outputs": [
    {
     "name": "stderr",
     "output_type": "stream",
     "text": [
      "Using TensorFlow backend.\n",
      "stxcal.py:17: FutureWarning: pandas.core.datetools.Timedelta is deprecated. Please use pandas._libs.tslib.Timedelta instead.\n",
      "  pd.datetools.Timedelta(weeks=52)\n"
     ]
    },
    {
     "name": "stdout",
     "output_type": "stream",
     "text": [
      "Initializing calendar between 1901-01-01 and 2019-12-25\n"
     ]
    }
   ],
   "source": [
    "import time\n",
    "import math\n",
    "from keras.models import Sequential\n",
    "from keras.layers.core import Dense, Dropout, Activation\n",
    "from keras.layers.recurrent import LSTM\n",
    "import numpy as np\n",
    "import pandas as pd\n",
    "import sklearn.preprocessing as prep\n",
    "import stxcal \n",
    "from stxts import StxTS "
   ]
  },
  {
   "cell_type": "markdown",
   "metadata": {},
   "source": [
    "## Import data\n",
    "Start with one stock: MSFT; adjust for splits"
   ]
  },
  {
   "cell_type": "code",
   "execution_count": 18,
   "metadata": {},
   "outputs": [
    {
     "data": {
      "text/plain": [
       "8244"
      ]
     },
     "execution_count": 18,
     "metadata": {},
     "output_type": "execute_result"
    }
   ],
   "source": [
    "stk = 'MSFT'\n",
    "sd = '1960-01-01'\n",
    "ed = stxcal.current_date()\n",
    "ts = StxTS(stk, sd, ed)\n",
    "dt = str(ts.df.index[ts.l - 1].date())\n",
    "ts.set_day(dt)"
   ]
  },
  {
   "cell_type": "code",
   "execution_count": 19,
   "metadata": {},
   "outputs": [
    {
     "data": {
      "text/html": [
       "<div>\n",
       "<style scoped>\n",
       "    .dataframe tbody tr th:only-of-type {\n",
       "        vertical-align: middle;\n",
       "    }\n",
       "\n",
       "    .dataframe tbody tr th {\n",
       "        vertical-align: top;\n",
       "    }\n",
       "\n",
       "    .dataframe thead th {\n",
       "        text-align: right;\n",
       "    }\n",
       "</style>\n",
       "<table border=\"1\" class=\"dataframe\">\n",
       "  <thead>\n",
       "    <tr style=\"text-align: right;\">\n",
       "      <th></th>\n",
       "      <th>o</th>\n",
       "      <th>hi</th>\n",
       "      <th>lo</th>\n",
       "      <th>volume</th>\n",
       "      <th>open_interest</th>\n",
       "      <th>c</th>\n",
       "    </tr>\n",
       "  </thead>\n",
       "  <tbody>\n",
       "    <tr>\n",
       "      <th>1986-03-13</th>\n",
       "      <td>0.079994</td>\n",
       "      <td>0.089993</td>\n",
       "      <td>0.079994</td>\n",
       "      <td>1.151131e+06</td>\n",
       "      <td>97190.94</td>\n",
       "      <td>0.084431</td>\n",
       "    </tr>\n",
       "    <tr>\n",
       "      <th>1986-03-14</th>\n",
       "      <td>0.084431</td>\n",
       "      <td>0.089993</td>\n",
       "      <td>0.084431</td>\n",
       "      <td>3.446672e+05</td>\n",
       "      <td>31017.60</td>\n",
       "      <td>0.089993</td>\n",
       "    </tr>\n",
       "    <tr>\n",
       "      <th>1986-03-17</th>\n",
       "      <td>0.089993</td>\n",
       "      <td>0.095555</td>\n",
       "      <td>0.089993</td>\n",
       "      <td>1.488118e+05</td>\n",
       "      <td>13392.00</td>\n",
       "      <td>0.089993</td>\n",
       "    </tr>\n",
       "    <tr>\n",
       "      <th>1986-03-18</th>\n",
       "      <td>0.089993</td>\n",
       "      <td>0.095555</td>\n",
       "      <td>0.089993</td>\n",
       "      <td>7.424587e+04</td>\n",
       "      <td>6681.60</td>\n",
       "      <td>0.089993</td>\n",
       "    </tr>\n",
       "    <tr>\n",
       "      <th>1986-03-19</th>\n",
       "      <td>0.089993</td>\n",
       "      <td>0.089993</td>\n",
       "      <td>0.084431</td>\n",
       "      <td>5.376425e+04</td>\n",
       "      <td>4838.40</td>\n",
       "      <td>0.089993</td>\n",
       "    </tr>\n",
       "  </tbody>\n",
       "</table>\n",
       "</div>"
      ],
      "text/plain": [
       "                   o        hi        lo        volume  open_interest  \\\n",
       "1986-03-13  0.079994  0.089993  0.079994  1.151131e+06       97190.94   \n",
       "1986-03-14  0.084431  0.089993  0.084431  3.446672e+05       31017.60   \n",
       "1986-03-17  0.089993  0.095555  0.089993  1.488118e+05       13392.00   \n",
       "1986-03-18  0.089993  0.095555  0.089993  7.424587e+04        6681.60   \n",
       "1986-03-19  0.089993  0.089993  0.084431  5.376425e+04        4838.40   \n",
       "\n",
       "                   c  \n",
       "1986-03-13  0.084431  \n",
       "1986-03-14  0.089993  \n",
       "1986-03-17  0.089993  \n",
       "1986-03-18  0.089993  \n",
       "1986-03-19  0.089993  "
      ]
     },
     "execution_count": 19,
     "metadata": {},
     "output_type": "execute_result"
    }
   ],
   "source": [
    "ts.df['open_interest'] = ts.df['c'] * ts.df['volume']\n",
    "ts.df = ts.df[['o', 'hi', 'lo', 'volume', 'open_interest', 'c']]\n",
    "ts.df.head()"
   ]
  },
  {
   "cell_type": "markdown",
   "metadata": {},
   "source": [
    "Normalize the data prior to feeding into model"
   ]
  },
  {
   "cell_type": "code",
   "execution_count": 20,
   "metadata": {},
   "outputs": [],
   "source": [
    "def standard_scaler(X_train, X_test):\n",
    "    train_samples, train_nx, train_ny = X_train.shape\n",
    "    test_samples, test_nx, test_ny = X_test.shape\n",
    "    X_train = X_train.reshape((train_samples, train_nx * train_ny))\n",
    "    X_test = X_test.reshape((test_samples, test_nx * test_ny))\n",
    "    preprocessor = prep.StandardScaler().fit(X_train)\n",
    "    X_train = preprocessor.transform(X_train)\n",
    "    X_test = preprocessor.transform(X_test)\n",
    "    \n",
    "    X_train = X_train.reshape((train_samples, train_nx, train_ny))\n",
    "    X_test = X_test.reshape((test_samples, test_nx, test_ny))\n",
    "    return X_train, X_test, preprocessor"
   ]
  },
  {
   "cell_type": "markdown",
   "metadata": {},
   "source": [
    "Split the data intoX_train, y_train, X_test, y_test"
   ]
  },
  {
   "cell_type": "code",
   "execution_count": 21,
   "metadata": {},
   "outputs": [],
   "source": [
    "def preprocess_data(stock, seq_len):\n",
    "    amount_of_features = len(stock.columns)\n",
    "    data = stock.values\n",
    "    \n",
    "    sequence_length = seq_len + 1\n",
    "    result = []\n",
    "    for index in range(len(data) - sequence_length):\n",
    "        result.append(data[index : index + sequence_length])\n",
    "    result = np.array(result)\n",
    "    row = round(0.95 * result.shape[0])\n",
    "    train = result[: int(row), :]\n",
    "    \n",
    "    train, result, preprocessor = standard_scaler(train, result)\n",
    "    \n",
    "    X_train = train[:, : -1]\n",
    "    y_train = train[:, -1][: ,-1]\n",
    "    X_test = result[int(row) :, : -1]\n",
    "    y_test = result[int(row) :, -1][ : ,-1]\n",
    "\n",
    "    X_train = np.reshape(X_train, (X_train.shape[0], X_train.shape[1], amount_of_features))\n",
    "    X_test = np.reshape(X_test, (X_test.shape[0], X_test.shape[1], amount_of_features))  \n",
    "\n",
    "    return [X_train, y_train, X_test, y_test, preprocessor]"
   ]
  },
  {
   "cell_type": "markdown",
   "metadata": {},
   "source": [
    "## Build the LSTM Network\n",
    "\n",
    "Here we will build a simple RNN with 2 LSTM layers.\n",
    "The architecture is:\n",
    "    \n",
    "    LSTM --> Dropout --> LSTM --> Dropout --> Fully-Connected(Dense)"
   ]
  },
  {
   "cell_type": "code",
   "execution_count": 104,
   "metadata": {},
   "outputs": [],
   "source": [
    "def build_model(layers):\n",
    "    model = Sequential()\n",
    "\n",
    "    # By setting return_sequences to True we are able to stack another LSTM layer\n",
    "    model.add(LSTM(\n",
    "        input_dim=layers[0],\n",
    "        output_dim=layers[1],\n",
    "        return_sequences=True))\n",
    "    model.add(Dropout(0.5))\n",
    "\n",
    "    model.add(LSTM(\n",
    "        layers[2],\n",
    "        return_sequences=False))\n",
    "    model.add(Dropout(0.35))\n",
    "\n",
    "    model.add(Dense(\n",
    "        output_dim=layers[3]))\n",
    "    model.add(Activation(\"linear\"))\n",
    "\n",
    "    start = time.time()\n",
    "    model.compile(loss=\"mse\", optimizer=\"rmsprop\", metrics=['accuracy'])\n",
    "    print(\"Compilation Time : \", time.time() - start)\n",
    "    return model"
   ]
  },
  {
   "cell_type": "code",
   "execution_count": 105,
   "metadata": {},
   "outputs": [
    {
     "name": "stdout",
     "output_type": "stream",
     "text": [
      "('X_train', (7642, 200, 6))\n",
      "('y_train', (7642,))\n",
      "('X_test', (402, 200, 6))\n",
      "('y_test', (402,))\n"
     ]
    }
   ],
   "source": [
    "window = 200\n",
    "X_train, y_train, X_test, y_test, preprocessor = preprocess_data(ts.df, window)\n",
    "print(\"X_train\", X_train.shape)\n",
    "print(\"y_train\", y_train.shape)\n",
    "print(\"X_test\", X_test.shape)\n",
    "print(\"y_test\", y_test.shape)"
   ]
  },
  {
   "cell_type": "code",
   "execution_count": 106,
   "metadata": {},
   "outputs": [
    {
     "name": "stderr",
     "output_type": "stream",
     "text": [
      "/home/cma/.envs/venv-ml/lib/python2.7/site-packages/ipykernel_launcher.py:8: UserWarning: The `input_dim` and `input_length` arguments in recurrent layers are deprecated. Use `input_shape` instead.\n",
      "  \n",
      "/home/cma/.envs/venv-ml/lib/python2.7/site-packages/ipykernel_launcher.py:8: UserWarning: Update your `LSTM` call to the Keras 2 API: `LSTM(units=200, return_sequences=True, input_shape=(None, 6))`\n",
      "  \n",
      "/home/cma/.envs/venv-ml/lib/python2.7/site-packages/ipykernel_launcher.py:17: UserWarning: Update your `Dense` call to the Keras 2 API: `Dense(units=1)`\n"
     ]
    },
    {
     "name": "stdout",
     "output_type": "stream",
     "text": [
      "('Compilation Time : ', 0.025983095169067383)\n"
     ]
    }
   ],
   "source": [
    "model = build_model([X_train.shape[2], window, 500, 1])"
   ]
  },
  {
   "cell_type": "markdown",
   "metadata": {},
   "source": [
    "## Training the Network"
   ]
  },
  {
   "cell_type": "code",
   "execution_count": 107,
   "metadata": {},
   "outputs": [
    {
     "name": "stdout",
     "output_type": "stream",
     "text": [
      "Train on 6877 samples, validate on 765 samples\n",
      "Epoch 1/50\n",
      "6877/6877 [==============================] - 248s 36ms/step - loss: 1.4266 - acc: 0.0000e+00 - val_loss: 0.5209 - val_acc: 0.0000e+00\n",
      "Epoch 2/50\n",
      "6877/6877 [==============================] - 246s 36ms/step - loss: 0.0165 - acc: 0.0000e+00 - val_loss: 0.0990 - val_acc: 0.0000e+00\n",
      "Epoch 3/50\n",
      "6877/6877 [==============================] - 242s 35ms/step - loss: 0.0169 - acc: 0.0000e+00 - val_loss: 0.2110 - val_acc: 0.0000e+00\n",
      "Epoch 4/50\n",
      "6877/6877 [==============================] - 242s 35ms/step - loss: 0.0227 - acc: 0.0000e+00 - val_loss: 0.0236 - val_acc: 0.0000e+00\n",
      "Epoch 5/50\n",
      "6877/6877 [==============================] - 245s 36ms/step - loss: 0.0222 - acc: 0.0000e+00 - val_loss: 0.1384 - val_acc: 0.0000e+00\n",
      "Epoch 6/50\n",
      "6877/6877 [==============================] - 249s 36ms/step - loss: 0.0237 - acc: 0.0000e+00 - val_loss: 0.0162 - val_acc: 0.0000e+00\n",
      "Epoch 7/50\n",
      "6877/6877 [==============================] - 247s 36ms/step - loss: 0.0205 - acc: 0.0000e+00 - val_loss: 0.3556 - val_acc: 0.0000e+00\n",
      "Epoch 8/50\n",
      "6877/6877 [==============================] - 250s 36ms/step - loss: 0.0254 - acc: 0.0000e+00 - val_loss: 0.0217 - val_acc: 0.0000e+00\n",
      "Epoch 9/50\n",
      "6877/6877 [==============================] - 252s 37ms/step - loss: 0.0246 - acc: 0.0000e+00 - val_loss: 0.1682 - val_acc: 0.0000e+00\n",
      "Epoch 10/50\n",
      "6877/6877 [==============================] - 244s 36ms/step - loss: 0.0279 - acc: 0.0000e+00 - val_loss: 0.0320 - val_acc: 0.0000e+00\n",
      "Epoch 11/50\n",
      "6877/6877 [==============================] - 245s 36ms/step - loss: 0.0272 - acc: 0.0000e+00 - val_loss: 0.2068 - val_acc: 0.0000e+00\n",
      "Epoch 12/50\n",
      "6877/6877 [==============================] - 241s 35ms/step - loss: 0.0254 - acc: 0.0000e+00 - val_loss: 0.0451 - val_acc: 0.0000e+00\n",
      "Epoch 13/50\n",
      "6877/6877 [==============================] - 241s 35ms/step - loss: 0.0323 - acc: 0.0000e+00 - val_loss: 0.3518 - val_acc: 0.0000e+00\n",
      "Epoch 14/50\n",
      "6877/6877 [==============================] - 241s 35ms/step - loss: 0.0252 - acc: 0.0000e+00 - val_loss: 0.0114 - val_acc: 0.0000e+00\n",
      "Epoch 15/50\n",
      "6877/6877 [==============================] - 241s 35ms/step - loss: 0.0218 - acc: 0.0000e+00 - val_loss: 0.2825 - val_acc: 0.0000e+00\n",
      "Epoch 16/50\n",
      "6877/6877 [==============================] - 254s 37ms/step - loss: 0.0339 - acc: 0.0000e+00 - val_loss: 0.0179 - val_acc: 0.0000e+00\n",
      "Epoch 17/50\n",
      "6877/6877 [==============================] - 284s 41ms/step - loss: 0.0178 - acc: 0.0000e+00 - val_loss: 0.1246 - val_acc: 0.0000e+00\n",
      "Epoch 18/50\n",
      "6877/6877 [==============================] - 354s 52ms/step - loss: 0.0183 - acc: 0.0000e+00 - val_loss: 0.0137 - val_acc: 0.0000e+00\n",
      "Epoch 19/50\n",
      "6877/6877 [==============================] - 357s 52ms/step - loss: 0.0361 - acc: 0.0000e+00 - val_loss: 0.1196 - val_acc: 0.0000e+00\n",
      "Epoch 20/50\n",
      "6877/6877 [==============================] - 353s 51ms/step - loss: 0.0094 - acc: 0.0000e+00 - val_loss: 0.0193 - val_acc: 0.0000e+00\n",
      "Epoch 21/50\n",
      "6877/6877 [==============================] - 297s 43ms/step - loss: 0.0228 - acc: 0.0000e+00 - val_loss: 0.2003 - val_acc: 0.0000e+00\n",
      "Epoch 22/50\n",
      "6877/6877 [==============================] - 244s 35ms/step - loss: 0.0200 - acc: 0.0000e+00 - val_loss: 0.0159 - val_acc: 0.0000e+00\n",
      "Epoch 23/50\n",
      "6877/6877 [==============================] - 245s 36ms/step - loss: 0.0161 - acc: 0.0000e+00 - val_loss: 0.3389 - val_acc: 0.0000e+00\n",
      "Epoch 24/50\n",
      "6877/6877 [==============================] - 241s 35ms/step - loss: 0.0288 - acc: 0.0000e+00 - val_loss: 0.0098 - val_acc: 0.0000e+00\n",
      "Epoch 25/50\n",
      "6877/6877 [==============================] - 241s 35ms/step - loss: 0.0093 - acc: 0.0000e+00 - val_loss: 0.0452 - val_acc: 0.0000e+00\n",
      "Epoch 26/50\n",
      "6877/6877 [==============================] - 241s 35ms/step - loss: 0.0181 - acc: 0.0000e+00 - val_loss: 0.1158 - val_acc: 0.0000e+00\n",
      "Epoch 27/50\n",
      "6877/6877 [==============================] - 241s 35ms/step - loss: 0.0267 - acc: 0.0000e+00 - val_loss: 0.0506 - val_acc: 0.0000e+00\n",
      "Epoch 28/50\n",
      "6877/6877 [==============================] - 241s 35ms/step - loss: 0.0066 - acc: 0.0000e+00 - val_loss: 0.0194 - val_acc: 0.0000e+00\n",
      "Epoch 29/50\n",
      "6877/6877 [==============================] - 241s 35ms/step - loss: 0.0157 - acc: 0.0000e+00 - val_loss: 0.6064 - val_acc: 0.0000e+00\n",
      "Epoch 30/50\n",
      "6877/6877 [==============================] - 241s 35ms/step - loss: 0.0292 - acc: 0.0000e+00 - val_loss: 0.0198 - val_acc: 0.0000e+00\n",
      "Epoch 31/50\n",
      "6877/6877 [==============================] - 241s 35ms/step - loss: 0.0080 - acc: 0.0000e+00 - val_loss: 0.1680 - val_acc: 0.0000e+00\n",
      "Epoch 32/50\n",
      "6877/6877 [==============================] - 284s 41ms/step - loss: 0.0162 - acc: 0.0000e+00 - val_loss: 0.0071 - val_acc: 0.0000e+00\n",
      "Epoch 33/50\n",
      "6877/6877 [==============================] - 322s 47ms/step - loss: 0.0146 - acc: 0.0000e+00 - val_loss: 0.1978 - val_acc: 0.0000e+00\n",
      "Epoch 34/50\n",
      "6877/6877 [==============================] - 277s 40ms/step - loss: 0.0176 - acc: 0.0000e+00 - val_loss: 0.0058 - val_acc: 0.0000e+00\n",
      "Epoch 35/50\n",
      "6877/6877 [==============================] - 301s 44ms/step - loss: 0.0099 - acc: 0.0000e+00 - val_loss: 0.0699 - val_acc: 0.0000e+00\n",
      "Epoch 36/50\n",
      "6877/6877 [==============================] - 416s 60ms/step - loss: 0.0217 - acc: 0.0000e+00 - val_loss: 0.0224 - val_acc: 0.0000e+00\n",
      "Epoch 37/50\n",
      "6877/6877 [==============================] - 314s 46ms/step - loss: 0.0125 - acc: 0.0000e+00 - val_loss: 0.0688 - val_acc: 0.0000e+00\n",
      "Epoch 38/50\n",
      "6877/6877 [==============================] - 357s 52ms/step - loss: 0.0099 - acc: 0.0000e+00 - val_loss: 0.0079 - val_acc: 0.0000e+00\n",
      "Epoch 39/50\n",
      "6877/6877 [==============================] - 331s 48ms/step - loss: 0.0173 - acc: 0.0000e+00 - val_loss: 0.1428 - val_acc: 0.0000e+00\n",
      "Epoch 40/50\n",
      "6877/6877 [==============================] - 297s 43ms/step - loss: 0.0115 - acc: 0.0000e+00 - val_loss: 0.0057 - val_acc: 0.0000e+00\n",
      "Epoch 41/50\n",
      "6877/6877 [==============================] - 340s 49ms/step - loss: 0.0134 - acc: 0.0000e+00 - val_loss: 0.2561 - val_acc: 0.0000e+00\n",
      "Epoch 42/50\n",
      "6877/6877 [==============================] - 298s 43ms/step - loss: 0.0163 - acc: 0.0000e+00 - val_loss: 0.0073 - val_acc: 0.0000e+00\n",
      "Epoch 43/50\n",
      "6877/6877 [==============================] - 307s 45ms/step - loss: 0.0086 - acc: 0.0000e+00 - val_loss: 0.2259 - val_acc: 0.0000e+00\n",
      "Epoch 44/50\n",
      "6877/6877 [==============================] - 339s 49ms/step - loss: 0.0197 - acc: 0.0000e+00 - val_loss: 0.0053 - val_acc: 0.0000e+00\n",
      "Epoch 45/50\n",
      "6877/6877 [==============================] - 335s 49ms/step - loss: 0.0064 - acc: 0.0000e+00 - val_loss: 0.0192 - val_acc: 0.0000e+00\n",
      "Epoch 46/50\n",
      "6877/6877 [==============================] - 337s 49ms/step - loss: 0.0203 - acc: 0.0000e+00 - val_loss: 0.0514 - val_acc: 0.0000e+00\n",
      "Epoch 47/50\n",
      "6877/6877 [==============================] - 282s 41ms/step - loss: 0.0103 - acc: 0.0000e+00 - val_loss: 0.0151 - val_acc: 0.0000e+00\n",
      "Epoch 48/50\n",
      "6877/6877 [==============================] - 245s 36ms/step - loss: 0.0076 - acc: 0.0000e+00 - val_loss: 0.0605 - val_acc: 0.0000e+00\n",
      "Epoch 49/50\n",
      "6877/6877 [==============================] - 255s 37ms/step - loss: 0.0153 - acc: 0.0000e+00 - val_loss: 0.0627 - val_acc: 0.0000e+00\n",
      "Epoch 50/50\n",
      "6877/6877 [==============================] - 277s 40ms/step - loss: 0.0091 - acc: 0.0000e+00 - val_loss: 0.0126 - val_acc: 0.0000e+00\n"
     ]
    },
    {
     "data": {
      "text/plain": [
       "<keras.callbacks.History at 0x7f21c181a8d0>"
      ]
     },
     "execution_count": 107,
     "metadata": {},
     "output_type": "execute_result"
    }
   ],
   "source": [
    "model.fit(\n",
    "    X_train,\n",
    "    y_train,\n",
    "    batch_size=1024,\n",
    "    epochs=50,\n",
    "    validation_split=0.1,\n",
    "    verbose=1)"
   ]
  },
  {
   "cell_type": "code",
   "execution_count": 108,
   "metadata": {},
   "outputs": [
    {
     "name": "stdout",
     "output_type": "stream",
     "text": [
      "7642/7642 [==============================] - 130s 17ms/step\n",
      "Train Score: 0.01 MSE (0.10 RMSE)\n",
      "402/402 [==============================] - 7s 17ms/step\n",
      "Test Score: 0.18 MSE (0.43 RMSE)\n"
     ]
    }
   ],
   "source": [
    "trainScore = model.evaluate(X_train, y_train, verbose=1)\n",
    "print('Train Score: %.2f MSE (%.2f RMSE)' % (trainScore[0], math.sqrt(trainScore[0])))\n",
    "\n",
    "testScore = model.evaluate(X_test, y_test, verbose=1)\n",
    "print('Test Score: %.2f MSE (%.2f RMSE)' % (testScore[0], math.sqrt(testScore[0])))"
   ]
  },
  {
   "cell_type": "code",
   "execution_count": 109,
   "metadata": {},
   "outputs": [],
   "source": [
    "diff = []\n",
    "ratio = []\n",
    "pred = model.predict(X_test)\n",
    "for u in range(len(y_test)):\n",
    "    pr = pred[u][0]\n",
    "    ratio.append((y_test[u] / pr) - 1)\n",
    "    diff.append(abs(y_test[u] - pr))"
   ]
  },
  {
   "cell_type": "code",
   "execution_count": 110,
   "metadata": {},
   "outputs": [],
   "source": [
    "# TODO: Scale it back"
   ]
  },
  {
   "cell_type": "code",
   "execution_count": 115,
   "metadata": {},
   "outputs": [
    {
     "data": {
      "image/png": "[encoded data removed]",
      "text/plain": [
       "<Figure size 432x288 with 1 Axes>"
      ]
     },
     "metadata": {},
     "output_type": "display_data"
    }
   ],
   "source": [
    "# if using within a jupyter notebook\n",
    "%matplotlib inline \n",
    "\n",
    "import matplotlib\n",
    "import matplotlib.pyplot as plt2\n",
    "\n",
    "plt2.plot(pred[180:250], color='red', marker='x', label='Prediction')\n",
    "plt2.plot(y_test[180:250], color='blue', marker='x', label='Ground Truth')\n",
    "plt2.legend(loc='upper left')\n",
    "plt2.show()"
   ]
  },
  {
   "cell_type": "code",
   "execution_count": 112,
   "metadata": {},
   "outputs": [
    {
     "data": {
      "image/png": "[encoded data removed]",
      "text/plain": [
       "<Figure size 432x288 with 1 Axes>"
      ]
     },
     "metadata": {},
     "output_type": "display_data"
    }
   ],
   "source": [
    "plt2.plot(pred, color='red', label='Prediction')\n",
    "plt2.plot(y_test, color='blue', label='Ground Truth')\n",
    "plt2.legend(loc='upper left')\n",
    "plt2.show()"
   ]
  },
  {
   "cell_type": "code",
   "execution_count": 114,
   "metadata": {},
   "outputs": [
    {
     "data": {
      "image/png": "[encoded data removed]",
      "text/plain": [
       "<Figure size 432x288 with 1 Axes>"
      ]
     },
     "metadata": {},
     "output_type": "display_data"
    }
   ],
   "source": [
    "plt2.plot(pred[:50], color='red', marker='x', label='Prediction')\n",
    "plt2.plot(y_test[:50], color='blue', marker='x', label='Ground Truth')\n",
    "plt2.legend(loc='upper left')\n",
    "plt2.show()"
   ]
  },
  {
   "cell_type": "code",
   "execution_count": null,
   "metadata": {},
   "outputs": [],
   "source": []
  }
 ],
 "metadata": {
  "kernelspec": {
   "display_name": "Python 2",
   "language": "python",
   "name": "python2"
  },
  "language_info": {
   "codemirror_mode": {
    "name": "ipython",
    "version": 2
   },
   "file_extension": ".py",
   "mimetype": "text/x-python",
   "name": "python",
   "nbconvert_exporter": "python",
   "pygments_lexer": "ipython2",
   "version": "2.7.12"
  }
 },
 "nbformat": 4,
 "nbformat_minor": 2
}
