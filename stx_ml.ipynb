{
 "cells": [
  {
   "cell_type": "markdown",
   "metadata": {},
   "source": [
    "# STX ML\n",
    "To install:\n",
    "```\n",
    "mkvirtualenv venv-ml\n",
    "workon venv-ml\n",
    "pip install -r requirements.txt\n",
    "pip install -r requirements_ml.txt\n",
    "```\n",
    "Based on code from https://github.com/Kulbear/stock-prediction"
   ]
  },
  {
   "cell_type": "code",
   "execution_count": 1,
   "metadata": {},
   "outputs": [
    {
     "name": "stderr",
     "output_type": "stream",
     "text": [
      "Using TensorFlow backend.\n",
      "stxcal.py:17: FutureWarning: pandas.core.datetools.Timedelta is deprecated. Please use pandas._libs.tslib.Timedelta instead.\n",
      "  pd.datetools.Timedelta(weeks=52)\n"
     ]
    },
    {
     "name": "stdout",
     "output_type": "stream",
     "text": [
      "Initializing calendar between 1901-01-01 and 2019-12-25\n"
     ]
    }
   ],
   "source": [
    "import time\n",
    "import math\n",
    "from keras.models import Sequential\n",
    "from keras.layers.core import Dense, Dropout, Activation\n",
    "from keras.layers.recurrent import LSTM\n",
    "import numpy as np\n",
    "import pandas as pd\n",
    "import sklearn.preprocessing as prep\n",
    "import stxcal \n",
    "from stxts import StxTS "
   ]
  },
  {
   "cell_type": "markdown",
   "metadata": {},
   "source": [
    "## Import data\n",
    "Start with one stock: MSFT; adjust for splits"
   ]
  },
  {
   "cell_type": "code",
   "execution_count": 18,
   "metadata": {},
   "outputs": [
    {
     "data": {
      "text/plain": [
       "8244"
      ]
     },
     "execution_count": 18,
     "metadata": {},
     "output_type": "execute_result"
    }
   ],
   "source": [
    "stk = 'MSFT'\n",
    "sd = '1960-01-01'\n",
    "ed = stxcal.current_date()\n",
    "ts = StxTS(stk, sd, ed)\n",
    "dt = str(ts.df.index[ts.l - 1].date())\n",
    "ts.set_day(dt)"
   ]
  },
  {
   "cell_type": "code",
   "execution_count": 19,
   "metadata": {},
   "outputs": [
    {
     "data": {
      "text/html": [
       "<div>\n",
       "<style scoped>\n",
       "    .dataframe tbody tr th:only-of-type {\n",
       "        vertical-align: middle;\n",
       "    }\n",
       "\n",
       "    .dataframe tbody tr th {\n",
       "        vertical-align: top;\n",
       "    }\n",
       "\n",
       "    .dataframe thead th {\n",
       "        text-align: right;\n",
       "    }\n",
       "</style>\n",
       "<table border=\"1\" class=\"dataframe\">\n",
       "  <thead>\n",
       "    <tr style=\"text-align: right;\">\n",
       "      <th></th>\n",
       "      <th>o</th>\n",
       "      <th>hi</th>\n",
       "      <th>lo</th>\n",
       "      <th>volume</th>\n",
       "      <th>open_interest</th>\n",
       "      <th>c</th>\n",
       "    </tr>\n",
       "  </thead>\n",
       "  <tbody>\n",
       "    <tr>\n",
       "      <th>1986-03-13</th>\n",
       "      <td>0.079994</td>\n",
       "      <td>0.089993</td>\n",
       "      <td>0.079994</td>\n",
       "      <td>1.151131e+06</td>\n",
       "      <td>97190.94</td>\n",
       "      <td>0.084431</td>\n",
       "    </tr>\n",
       "    <tr>\n",
       "      <th>1986-03-14</th>\n",
       "      <td>0.084431</td>\n",
       "      <td>0.089993</td>\n",
       "      <td>0.084431</td>\n",
       "      <td>3.446672e+05</td>\n",
       "      <td>31017.60</td>\n",
       "      <td>0.089993</td>\n",
       "    </tr>\n",
       "    <tr>\n",
       "      <th>1986-03-17</th>\n",
       "      <td>0.089993</td>\n",
       "      <td>0.095555</td>\n",
       "      <td>0.089993</td>\n",
       "      <td>1.488118e+05</td>\n",
       "      <td>13392.00</td>\n",
       "      <td>0.089993</td>\n",
       "    </tr>\n",
       "    <tr>\n",
       "      <th>1986-03-18</th>\n",
       "      <td>0.089993</td>\n",
       "      <td>0.095555</td>\n",
       "      <td>0.089993</td>\n",
       "      <td>7.424587e+04</td>\n",
       "      <td>6681.60</td>\n",
       "      <td>0.089993</td>\n",
       "    </tr>\n",
       "    <tr>\n",
       "      <th>1986-03-19</th>\n",
       "      <td>0.089993</td>\n",
       "      <td>0.089993</td>\n",
       "      <td>0.084431</td>\n",
       "      <td>5.376425e+04</td>\n",
       "      <td>4838.40</td>\n",
       "      <td>0.089993</td>\n",
       "    </tr>\n",
       "  </tbody>\n",
       "</table>\n",
       "</div>"
      ],
      "text/plain": [
       "                   o        hi        lo        volume  open_interest  \\\n",
       "1986-03-13  0.079994  0.089993  0.079994  1.151131e+06       97190.94   \n",
       "1986-03-14  0.084431  0.089993  0.084431  3.446672e+05       31017.60   \n",
       "1986-03-17  0.089993  0.095555  0.089993  1.488118e+05       13392.00   \n",
       "1986-03-18  0.089993  0.095555  0.089993  7.424587e+04        6681.60   \n",
       "1986-03-19  0.089993  0.089993  0.084431  5.376425e+04        4838.40   \n",
       "\n",
       "                   c  \n",
       "1986-03-13  0.084431  \n",
       "1986-03-14  0.089993  \n",
       "1986-03-17  0.089993  \n",
       "1986-03-18  0.089993  \n",
       "1986-03-19  0.089993  "
      ]
     },
     "execution_count": 19,
     "metadata": {},
     "output_type": "execute_result"
    }
   ],
   "source": [
    "ts.df['open_interest'] = ts.df['c'] * ts.df['volume']\n",
    "ts.df = ts.df[['o', 'hi', 'lo', 'volume', 'open_interest', 'c']]\n",
    "ts.df.head()"
   ]
  },
  {
   "cell_type": "markdown",
   "metadata": {},
   "source": [
    "Normalize the data prior to feeding into model"
   ]
  },
  {
   "cell_type": "code",
   "execution_count": 20,
   "metadata": {},
   "outputs": [],
   "source": [
    "def standard_scaler(X_train, X_test):\n",
    "    train_samples, train_nx, train_ny = X_train.shape\n",
    "    test_samples, test_nx, test_ny = X_test.shape\n",
    "    X_train = X_train.reshape((train_samples, train_nx * train_ny))\n",
    "    X_test = X_test.reshape((test_samples, test_nx * test_ny))\n",
    "    preprocessor = prep.StandardScaler().fit(X_train)\n",
    "    X_train = preprocessor.transform(X_train)\n",
    "    X_test = preprocessor.transform(X_test)\n",
    "    \n",
    "    X_train = X_train.reshape((train_samples, train_nx, train_ny))\n",
    "    X_test = X_test.reshape((test_samples, test_nx, test_ny))\n",
    "    return X_train, X_test, preprocessor"
   ]
  },
  {
   "cell_type": "markdown",
   "metadata": {},
   "source": [
    "Split the data intoX_train, y_train, X_test, y_test"
   ]
  },
  {
   "cell_type": "code",
   "execution_count": 21,
   "metadata": {},
   "outputs": [],
   "source": [
    "def preprocess_data(stock, seq_len):\n",
    "    amount_of_features = len(stock.columns)\n",
    "    data = stock.values\n",
    "    \n",
    "    sequence_length = seq_len + 1\n",
    "    result = []\n",
    "    for index in range(len(data) - sequence_length):\n",
    "        result.append(data[index : index + sequence_length])\n",
    "    result = np.array(result)\n",
    "    row = round(0.95 * result.shape[0])\n",
    "    train = result[: int(row), :]\n",
    "    \n",
    "    train, result, preprocessor = standard_scaler(train, result)\n",
    "    \n",
    "    X_train = train[:, : -1]\n",
    "    y_train = train[:, -1][: ,-1]\n",
    "    X_test = result[int(row) :, : -1]\n",
    "    y_test = result[int(row) :, -1][ : ,-1]\n",
    "\n",
    "    X_train = np.reshape(X_train, (X_train.shape[0], X_train.shape[1], amount_of_features))\n",
    "    X_test = np.reshape(X_test, (X_test.shape[0], X_test.shape[1], amount_of_features))  \n",
    "\n",
    "    return [X_train, y_train, X_test, y_test, preprocessor]"
   ]
  },
  {
   "cell_type": "markdown",
   "metadata": {},
   "source": [
    "## Build the LSTM Network\n",
    "\n",
    "Here we will build a simple RNN with 2 LSTM layers.\n",
    "The architecture is:\n",
    "    \n",
    "    LSTM --> Dropout --> LSTM --> Dropout --> Fully-Connected(Dense)"
   ]
  },
  {
   "cell_type": "code",
   "execution_count": 81,
   "metadata": {},
   "outputs": [],
   "source": [
    "def build_model(layers):\n",
    "    model = Sequential()\n",
    "\n",
    "    # By setting return_sequences to True we are able to stack another LSTM layer\n",
    "    model.add(LSTM(\n",
    "        input_dim=layers[0],\n",
    "        output_dim=layers[1],\n",
    "        return_sequences=True))\n",
    "    model.add(Dropout(0.35))\n",
    "\n",
    "    model.add(LSTM(\n",
    "        layers[2],\n",
    "        return_sequences=False))\n",
    "    model.add(Dropout(0.25))\n",
    "\n",
    "    model.add(Dense(\n",
    "        output_dim=layers[3]))\n",
    "    model.add(Activation(\"linear\"))\n",
    "\n",
    "    start = time.time()\n",
    "    model.compile(loss=\"mse\", optimizer=\"rmsprop\", metrics=['accuracy'])\n",
    "    print(\"Compilation Time : \", time.time() - start)\n",
    "    return model"
   ]
  },
  {
   "cell_type": "code",
   "execution_count": 82,
   "metadata": {},
   "outputs": [
    {
     "name": "stdout",
     "output_type": "stream",
     "text": [
      "('X_train', (7822, 10, 6))\n",
      "('y_train', (7822,))\n",
      "('X_test', (412, 10, 6))\n",
      "('y_test', (412,))\n"
     ]
    }
   ],
   "source": [
    "window = 10\n",
    "X_train, y_train, X_test, y_test, preprocessor = preprocess_data(ts.df, window)\n",
    "print(\"X_train\", X_train.shape)\n",
    "print(\"y_train\", y_train.shape)\n",
    "print(\"X_test\", X_test.shape)\n",
    "print(\"y_test\", y_test.shape)"
   ]
  },
  {
   "cell_type": "code",
   "execution_count": 83,
   "metadata": {},
   "outputs": [
    {
     "name": "stderr",
     "output_type": "stream",
     "text": [
      "/home/cma/.envs/venv-ml/lib/python2.7/site-packages/ipykernel_launcher.py:8: UserWarning: The `input_dim` and `input_length` arguments in recurrent layers are deprecated. Use `input_shape` instead.\n",
      "  \n",
      "/home/cma/.envs/venv-ml/lib/python2.7/site-packages/ipykernel_launcher.py:8: UserWarning: Update your `LSTM` call to the Keras 2 API: `LSTM(units=10, return_sequences=True, input_shape=(None, 6))`\n",
      "  \n"
     ]
    },
    {
     "name": "stdout",
     "output_type": "stream",
     "text": [
      "('Compilation Time : ', 0.017663955688476562)\n"
     ]
    },
    {
     "name": "stderr",
     "output_type": "stream",
     "text": [
      "/home/cma/.envs/venv-ml/lib/python2.7/site-packages/ipykernel_launcher.py:17: UserWarning: Update your `Dense` call to the Keras 2 API: `Dense(units=1)`\n"
     ]
    }
   ],
   "source": [
    "model = build_model([X_train.shape[2], window, 100, 1])"
   ]
  },
  {
   "cell_type": "markdown",
   "metadata": {},
   "source": [
    "## Training the Network"
   ]
  },
  {
   "cell_type": "code",
   "execution_count": null,
   "metadata": {},
   "outputs": [
    {
     "name": "stdout",
     "output_type": "stream",
     "text": [
      "Train on 7039 samples, validate on 783 samples\n",
      "Epoch 1/200\n",
      "7039/7039 [==============================] - 3s 359us/step - loss: 0.2265 - acc: 0.0000e+00 - val_loss: 1.3394 - val_acc: 0.0000e+00\n",
      "Epoch 2/200\n",
      "7039/7039 [==============================] - 1s 125us/step - loss: 0.0303 - acc: 0.0000e+00 - val_loss: 0.8660 - val_acc: 0.0000e+00\n",
      "Epoch 3/200\n",
      "7039/7039 [==============================] - 1s 129us/step - loss: 0.0247 - acc: 0.0000e+00 - val_loss: 0.6198 - val_acc: 0.0000e+00\n",
      "Epoch 4/200\n",
      "7039/7039 [==============================] - 1s 126us/step - loss: 0.0257 - acc: 0.0000e+00 - val_loss: 0.6359 - val_acc: 0.0000e+00\n",
      "Epoch 5/200\n",
      "7039/7039 [==============================] - 1s 128us/step - loss: 0.0222 - acc: 0.0000e+00 - val_loss: 0.4054 - val_acc: 0.0000e+00\n",
      "Epoch 6/200\n",
      "7039/7039 [==============================] - 1s 129us/step - loss: 0.0243 - acc: 0.0000e+00 - val_loss: 0.5101 - val_acc: 0.0000e+00\n",
      "Epoch 7/200\n",
      "7039/7039 [==============================] - 1s 130us/step - loss: 0.0209 - acc: 0.0000e+00 - val_loss: 0.2634 - val_acc: 0.0000e+00\n",
      "Epoch 8/200\n",
      "7039/7039 [==============================] - 1s 128us/step - loss: 0.0224 - acc: 0.0000e+00 - val_loss: 0.4485 - val_acc: 0.0000e+00\n",
      "Epoch 9/200\n",
      "7039/7039 [==============================] - 1s 128us/step - loss: 0.0195 - acc: 0.0000e+00 - val_loss: 0.2294 - val_acc: 0.0000e+00\n",
      "Epoch 10/200\n",
      "7039/7039 [==============================] - 1s 134us/step - loss: 0.0204 - acc: 0.0000e+00 - val_loss: 0.3429 - val_acc: 0.0000e+00\n",
      "Epoch 11/200\n",
      "7039/7039 [==============================] - 1s 136us/step - loss: 0.0198 - acc: 0.0000e+00 - val_loss: 0.2152 - val_acc: 0.0000e+00\n",
      "Epoch 12/200\n",
      "7039/7039 [==============================] - 1s 134us/step - loss: 0.0194 - acc: 0.0000e+00 - val_loss: 0.3810 - val_acc: 0.0000e+00\n",
      "Epoch 13/200\n",
      "7039/7039 [==============================] - 1s 132us/step - loss: 0.0193 - acc: 0.0000e+00 - val_loss: 0.1666 - val_acc: 0.0000e+00\n",
      "Epoch 14/200\n",
      "7039/7039 [==============================] - 1s 156us/step - loss: 0.0197 - acc: 0.0000e+00 - val_loss: 0.3160 - val_acc: 0.0000e+00\n",
      "Epoch 15/200\n",
      "7039/7039 [==============================] - 1s 140us/step - loss: 0.0175 - acc: 0.0000e+00 - val_loss: 0.1391 - val_acc: 0.0000e+00\n",
      "Epoch 16/200\n",
      "7039/7039 [==============================] - 1s 144us/step - loss: 0.0170 - acc: 0.0000e+00 - val_loss: 0.2107 - val_acc: 0.0000e+00\n",
      "Epoch 17/200\n",
      "7039/7039 [==============================] - 1s 129us/step - loss: 0.0177 - acc: 0.0000e+00 - val_loss: 0.1164 - val_acc: 0.0000e+00\n",
      "Epoch 18/200\n",
      "7039/7039 [==============================] - 1s 129us/step - loss: 0.0181 - acc: 0.0000e+00 - val_loss: 0.1692 - val_acc: 0.0000e+00\n",
      "Epoch 19/200\n",
      "7039/7039 [==============================] - 1s 151us/step - loss: 0.0173 - acc: 0.0000e+00 - val_loss: 0.0828 - val_acc: 0.0000e+00\n",
      "Epoch 20/200\n",
      "7039/7039 [==============================] - 1s 150us/step - loss: 0.0159 - acc: 0.0000e+00 - val_loss: 0.1964 - val_acc: 0.0000e+00\n",
      "Epoch 21/200\n",
      "7039/7039 [==============================] - 1s 131us/step - loss: 0.0155 - acc: 0.0000e+00 - val_loss: 0.0757 - val_acc: 0.0000e+00\n",
      "Epoch 22/200\n",
      "7039/7039 [==============================] - 1s 130us/step - loss: 0.0176 - acc: 0.0000e+00 - val_loss: 0.2184 - val_acc: 0.0000e+00\n",
      "Epoch 23/200\n",
      "7039/7039 [==============================] - 1s 133us/step - loss: 0.0163 - acc: 0.0000e+00 - val_loss: 0.1539 - val_acc: 0.0000e+00\n",
      "Epoch 24/200\n",
      "7039/7039 [==============================] - 1s 129us/step - loss: 0.0164 - acc: 0.0000e+00 - val_loss: 0.2850 - val_acc: 0.0000e+00\n",
      "Epoch 25/200\n",
      "7039/7039 [==============================] - 1s 130us/step - loss: 0.0153 - acc: 0.0000e+00 - val_loss: 0.1078 - val_acc: 0.0000e+00\n",
      "Epoch 26/200\n",
      "7039/7039 [==============================] - 1s 131us/step - loss: 0.0172 - acc: 0.0000e+00 - val_loss: 0.1679 - val_acc: 0.0000e+00\n",
      "Epoch 27/200\n",
      "7039/7039 [==============================] - 1s 131us/step - loss: 0.0166 - acc: 0.0000e+00 - val_loss: 0.0771 - val_acc: 0.0000e+00\n",
      "Epoch 28/200\n",
      "7039/7039 [==============================] - 1s 137us/step - loss: 0.0151 - acc: 0.0000e+00 - val_loss: 0.1789 - val_acc: 0.0000e+00\n",
      "Epoch 29/200\n",
      "7039/7039 [==============================] - 1s 129us/step - loss: 0.0165 - acc: 0.0000e+00 - val_loss: 0.0895 - val_acc: 0.0000e+00\n",
      "Epoch 30/200\n",
      "7039/7039 [==============================] - 1s 133us/step - loss: 0.0146 - acc: 0.0000e+00 - val_loss: 0.1109 - val_acc: 0.0000e+00\n",
      "Epoch 31/200\n",
      "7039/7039 [==============================] - 1s 132us/step - loss: 0.0171 - acc: 0.0000e+00 - val_loss: 0.0895 - val_acc: 0.0000e+00\n",
      "Epoch 32/200\n",
      "7039/7039 [==============================] - 1s 131us/step - loss: 0.0138 - acc: 0.0000e+00 - val_loss: 0.1376 - val_acc: 0.0000e+00\n",
      "Epoch 33/200\n",
      "7039/7039 [==============================] - 1s 137us/step - loss: 0.0160 - acc: 0.0000e+00 - val_loss: 0.0615 - val_acc: 0.0000e+00\n",
      "Epoch 34/200\n",
      "7039/7039 [==============================] - 1s 130us/step - loss: 0.0150 - acc: 0.0000e+00 - val_loss: 0.2271 - val_acc: 0.0000e+00\n",
      "Epoch 35/200\n",
      "7039/7039 [==============================] - 1s 148us/step - loss: 0.0153 - acc: 0.0000e+00 - val_loss: 0.0915 - val_acc: 0.0000e+00\n",
      "Epoch 36/200\n",
      "7039/7039 [==============================] - 1s 138us/step - loss: 0.0145 - acc: 0.0000e+00 - val_loss: 0.1366 - val_acc: 0.0000e+00\n",
      "Epoch 37/200\n",
      "7039/7039 [==============================] - 1s 129us/step - loss: 0.0151 - acc: 0.0000e+00 - val_loss: 0.0822 - val_acc: 0.0000e+00\n",
      "Epoch 38/200\n",
      "7039/7039 [==============================] - 1s 134us/step - loss: 0.0135 - acc: 0.0000e+00 - val_loss: 0.1967 - val_acc: 0.0000e+00\n",
      "Epoch 39/200\n",
      "7039/7039 [==============================] - 1s 131us/step - loss: 0.0146 - acc: 0.0000e+00 - val_loss: 0.0902 - val_acc: 0.0000e+00\n",
      "Epoch 40/200\n",
      "7039/7039 [==============================] - 1s 133us/step - loss: 0.0158 - acc: 0.0000e+00 - val_loss: 0.1925 - val_acc: 0.0000e+00\n",
      "Epoch 41/200\n",
      "7039/7039 [==============================] - 1s 136us/step - loss: 0.0135 - acc: 0.0000e+00 - val_loss: 0.0711 - val_acc: 0.0000e+00\n",
      "Epoch 42/200\n",
      "7039/7039 [==============================] - 1s 134us/step - loss: 0.0151 - acc: 0.0000e+00 - val_loss: 0.1778 - val_acc: 0.0000e+00\n",
      "Epoch 43/200\n",
      "7039/7039 [==============================] - 1s 131us/step - loss: 0.0138 - acc: 0.0000e+00 - val_loss: 0.0744 - val_acc: 0.0000e+00\n",
      "Epoch 44/200\n",
      "7039/7039 [==============================] - 1s 136us/step - loss: 0.0148 - acc: 0.0000e+00 - val_loss: 0.1946 - val_acc: 0.0000e+00\n",
      "Epoch 45/200\n",
      "7039/7039 [==============================] - 1s 130us/step - loss: 0.0135 - acc: 0.0000e+00 - val_loss: 0.0796 - val_acc: 0.0000e+00\n",
      "Epoch 46/200\n",
      "7039/7039 [==============================] - 1s 134us/step - loss: 0.0143 - acc: 0.0000e+00 - val_loss: 0.2212 - val_acc: 0.0000e+00\n",
      "Epoch 47/200\n",
      "7039/7039 [==============================] - 1s 132us/step - loss: 0.0141 - acc: 0.0000e+00 - val_loss: 0.0670 - val_acc: 0.0000e+00\n",
      "Epoch 48/200\n",
      "7039/7039 [==============================] - 1s 139us/step - loss: 0.0146 - acc: 0.0000e+00 - val_loss: 0.0958 - val_acc: 0.0000e+00\n",
      "Epoch 49/200\n",
      "7039/7039 [==============================] - 1s 136us/step - loss: 0.0121 - acc: 0.0000e+00 - val_loss: 0.0364 - val_acc: 0.0000e+00\n",
      "Epoch 50/200\n",
      "7039/7039 [==============================] - 1s 129us/step - loss: 0.0153 - acc: 0.0000e+00 - val_loss: 0.1584 - val_acc: 0.0000e+00\n",
      "Epoch 51/200\n",
      "7039/7039 [==============================] - 1s 146us/step - loss: 0.0119 - acc: 0.0000e+00 - val_loss: 0.0464 - val_acc: 0.0000e+00\n",
      "Epoch 52/200\n",
      "7039/7039 [==============================] - 1s 129us/step - loss: 0.0160 - acc: 0.0000e+00 - val_loss: 0.0922 - val_acc: 0.0000e+00\n",
      "Epoch 53/200\n",
      "7039/7039 [==============================] - 1s 125us/step - loss: 0.0125 - acc: 0.0000e+00 - val_loss: 0.0602 - val_acc: 0.0000e+00\n",
      "Epoch 54/200\n",
      "7039/7039 [==============================] - 1s 124us/step - loss: 0.0138 - acc: 0.0000e+00 - val_loss: 0.1429 - val_acc: 0.0000e+00\n",
      "Epoch 55/200\n",
      "7039/7039 [==============================] - 1s 129us/step - loss: 0.0136 - acc: 0.0000e+00 - val_loss: 0.0643 - val_acc: 0.0000e+00\n",
      "Epoch 56/200\n",
      "7039/7039 [==============================] - 1s 133us/step - loss: 0.0115 - acc: 0.0000e+00 - val_loss: 0.1682 - val_acc: 0.0000e+00\n"
     ]
    },
    {
     "name": "stdout",
     "output_type": "stream",
     "text": [
      "Epoch 57/200\n",
      "7039/7039 [==============================] - 1s 130us/step - loss: 0.0158 - acc: 0.0000e+00 - val_loss: 0.0687 - val_acc: 0.0000e+00\n",
      "Epoch 58/200\n",
      "7039/7039 [==============================] - 1s 131us/step - loss: 0.0132 - acc: 0.0000e+00 - val_loss: 0.1323 - val_acc: 0.0000e+00\n",
      "Epoch 59/200\n",
      "7039/7039 [==============================] - 1s 145us/step - loss: 0.0132 - acc: 0.0000e+00 - val_loss: 0.0539 - val_acc: 0.0000e+00\n",
      "Epoch 60/200\n",
      "7039/7039 [==============================] - 1s 207us/step - loss: 0.0123 - acc: 0.0000e+00 - val_loss: 0.1754 - val_acc: 0.0000e+00\n",
      "Epoch 61/200\n",
      "7039/7039 [==============================] - 1s 163us/step - loss: 0.0141 - acc: 0.0000e+00 - val_loss: 0.0515 - val_acc: 0.0000e+00\n",
      "Epoch 62/200\n",
      "7039/7039 [==============================] - 1s 180us/step - loss: 0.0119 - acc: 0.0000e+00 - val_loss: 0.1924 - val_acc: 0.0000e+00\n",
      "Epoch 63/200\n",
      "7039/7039 [==============================] - 1s 163us/step - loss: 0.0156 - acc: 0.0000e+00 - val_loss: 0.0765 - val_acc: 0.0000e+00\n",
      "Epoch 64/200\n",
      "7039/7039 [==============================] - 1s 138us/step - loss: 0.0107 - acc: 0.0000e+00 - val_loss: 0.0974 - val_acc: 0.0000e+00\n",
      "Epoch 65/200\n",
      "7039/7039 [==============================] - 1s 123us/step - loss: 0.0144 - acc: 0.0000e+00 - val_loss: 0.0286 - val_acc: 0.0000e+00\n",
      "Epoch 66/200\n",
      "7039/7039 [==============================] - 1s 127us/step - loss: 0.0125 - acc: 0.0000e+00 - val_loss: 0.0705 - val_acc: 0.0000e+00\n",
      "Epoch 67/200\n",
      "7039/7039 [==============================] - 1s 126us/step - loss: 0.0130 - acc: 0.0000e+00 - val_loss: 0.0385 - val_acc: 0.0000e+00\n",
      "Epoch 68/200\n",
      "7039/7039 [==============================] - 1s 129us/step - loss: 0.0133 - acc: 0.0000e+00 - val_loss: 0.1568 - val_acc: 0.0000e+00\n",
      "Epoch 69/200\n",
      "7039/7039 [==============================] - 1s 133us/step - loss: 0.0120 - acc: 0.0000e+00 - val_loss: 0.0511 - val_acc: 0.0000e+00\n",
      "Epoch 70/200\n",
      "7039/7039 [==============================] - 1s 125us/step - loss: 0.0133 - acc: 0.0000e+00 - val_loss: 0.1396 - val_acc: 0.0000e+00\n",
      "Epoch 71/200\n",
      "7039/7039 [==============================] - 1s 125us/step - loss: 0.0118 - acc: 0.0000e+00 - val_loss: 0.0316 - val_acc: 0.0000e+00\n",
      "Epoch 72/200\n",
      "7039/7039 [==============================] - 1s 123us/step - loss: 0.0139 - acc: 0.0000e+00 - val_loss: 0.0798 - val_acc: 0.0000e+00\n",
      "Epoch 73/200\n",
      "7039/7039 [==============================] - 1s 123us/step - loss: 0.0124 - acc: 0.0000e+00 - val_loss: 0.0455 - val_acc: 0.0000e+00\n",
      "Epoch 74/200\n",
      "7039/7039 [==============================] - 1s 126us/step - loss: 0.0130 - acc: 0.0000e+00 - val_loss: 0.1414 - val_acc: 0.0000e+00\n",
      "Epoch 75/200\n",
      "7039/7039 [==============================] - 1s 126us/step - loss: 0.0122 - acc: 0.0000e+00 - val_loss: 0.0531 - val_acc: 0.0000e+00\n",
      "Epoch 76/200\n",
      "7039/7039 [==============================] - 1s 127us/step - loss: 0.0119 - acc: 0.0000e+00 - val_loss: 0.1420 - val_acc: 0.0000e+00\n",
      "Epoch 77/200\n",
      "7039/7039 [==============================] - 1s 126us/step - loss: 0.0130 - acc: 0.0000e+00 - val_loss: 0.0677 - val_acc: 0.0000e+00\n",
      "Epoch 78/200\n",
      "7039/7039 [==============================] - 1s 124us/step - loss: 0.0117 - acc: 0.0000e+00 - val_loss: 0.1329 - val_acc: 0.0000e+00\n",
      "Epoch 79/200\n",
      "7039/7039 [==============================] - 1s 124us/step - loss: 0.0130 - acc: 0.0000e+00 - val_loss: 0.0374 - val_acc: 0.0000e+00\n",
      "Epoch 80/200\n",
      "7039/7039 [==============================] - 1s 124us/step - loss: 0.0119 - acc: 0.0000e+00 - val_loss: 0.0629 - val_acc: 0.0000e+00\n",
      "Epoch 81/200\n",
      "7039/7039 [==============================] - 1s 123us/step - loss: 0.0128 - acc: 0.0000e+00 - val_loss: 0.0292 - val_acc: 0.0000e+00\n",
      "Epoch 82/200\n",
      "7039/7039 [==============================] - 1s 127us/step - loss: 0.0118 - acc: 0.0000e+00 - val_loss: 0.0776 - val_acc: 0.0000e+00\n",
      "Epoch 83/200\n",
      "7039/7039 [==============================] - 1s 129us/step - loss: 0.0113 - acc: 0.0000e+00 - val_loss: 0.0479 - val_acc: 0.0000e+00\n",
      "Epoch 84/200\n",
      "7039/7039 [==============================] - 1s 129us/step - loss: 0.0126 - acc: 0.0000e+00 - val_loss: 0.0709 - val_acc: 0.0000e+00\n",
      "Epoch 85/200\n",
      "7039/7039 [==============================] - 1s 127us/step - loss: 0.0114 - acc: 0.0000e+00 - val_loss: 0.0353 - val_acc: 0.0000e+00\n",
      "Epoch 86/200\n",
      "7039/7039 [==============================] - 1s 125us/step - loss: 0.0136 - acc: 0.0000e+00 - val_loss: 0.0937 - val_acc: 0.0000e+00\n",
      "Epoch 87/200\n",
      "7039/7039 [==============================] - 1s 124us/step - loss: 0.0105 - acc: 0.0000e+00 - val_loss: 0.0550 - val_acc: 0.0000e+00\n",
      "Epoch 88/200\n",
      "7039/7039 [==============================] - 1s 126us/step - loss: 0.0127 - acc: 0.0000e+00 - val_loss: 0.1133 - val_acc: 0.0000e+00\n",
      "Epoch 89/200\n",
      "7039/7039 [==============================] - 1s 126us/step - loss: 0.0121 - acc: 0.0000e+00 - val_loss: 0.0349 - val_acc: 0.0000e+00\n",
      "Epoch 90/200\n",
      "7039/7039 [==============================] - 1s 125us/step - loss: 0.0115 - acc: 0.0000e+00 - val_loss: 0.0797 - val_acc: 0.0000e+00\n",
      "Epoch 91/200\n",
      "7039/7039 [==============================] - 1s 124us/step - loss: 0.0111 - acc: 0.0000e+00 - val_loss: 0.0308 - val_acc: 0.0000e+00\n",
      "Epoch 92/200\n",
      "7039/7039 [==============================] - 1s 124us/step - loss: 0.0124 - acc: 0.0000e+00 - val_loss: 0.1049 - val_acc: 0.0000e+00\n",
      "Epoch 93/200\n",
      "7039/7039 [==============================] - 1s 123us/step - loss: 0.0119 - acc: 0.0000e+00 - val_loss: 0.0349 - val_acc: 0.0000e+00\n",
      "Epoch 94/200\n",
      "7039/7039 [==============================] - 1s 126us/step - loss: 0.0116 - acc: 0.0000e+00 - val_loss: 0.0948 - val_acc: 0.0000e+00\n",
      "Epoch 95/200\n",
      "7039/7039 [==============================] - 1s 123us/step - loss: 0.0117 - acc: 0.0000e+00 - val_loss: 0.0361 - val_acc: 0.0000e+00\n",
      "Epoch 96/200\n",
      "7039/7039 [==============================] - 1s 124us/step - loss: 0.0112 - acc: 0.0000e+00 - val_loss: 0.0729 - val_acc: 0.0000e+00\n",
      "Epoch 97/200\n",
      "7039/7039 [==============================] - 1s 127us/step - loss: 0.0114 - acc: 0.0000e+00 - val_loss: 0.0478 - val_acc: 0.0000e+00\n",
      "Epoch 98/200\n",
      "7039/7039 [==============================] - 1s 135us/step - loss: 0.0114 - acc: 0.0000e+00 - val_loss: 0.0979 - val_acc: 0.0000e+00\n",
      "Epoch 99/200\n",
      "7039/7039 [==============================] - 1s 123us/step - loss: 0.0120 - acc: 0.0000e+00 - val_loss: 0.0432 - val_acc: 0.0000e+00\n",
      "Epoch 100/200\n",
      "7039/7039 [==============================] - 1s 129us/step - loss: 0.0110 - acc: 0.0000e+00 - val_loss: 0.0898 - val_acc: 0.0000e+00\n",
      "Epoch 101/200\n",
      "7039/7039 [==============================] - 1s 134us/step - loss: 0.0112 - acc: 0.0000e+00 - val_loss: 0.0441 - val_acc: 0.0000e+00\n",
      "Epoch 102/200\n",
      "7039/7039 [==============================] - 1s 139us/step - loss: 0.0111 - acc: 0.0000e+00 - val_loss: 0.0474 - val_acc: 0.0000e+00\n",
      "Epoch 103/200\n",
      "7039/7039 [==============================] - 1s 133us/step - loss: 0.0115 - acc: 0.0000e+00 - val_loss: 0.0252 - val_acc: 0.0000e+00\n",
      "Epoch 104/200\n",
      "7039/7039 [==============================] - 1s 125us/step - loss: 0.0101 - acc: 0.0000e+00 - val_loss: 0.0308 - val_acc: 0.0000e+00\n",
      "Epoch 105/200\n",
      "7039/7039 [==============================] - 1s 127us/step - loss: 0.0124 - acc: 0.0000e+00 - val_loss: 0.0254 - val_acc: 0.0000e+00\n",
      "Epoch 106/200\n",
      "7039/7039 [==============================] - 1s 129us/step - loss: 0.0099 - acc: 0.0000e+00 - val_loss: 0.0393 - val_acc: 0.0000e+00\n",
      "Epoch 107/200\n",
      "7039/7039 [==============================] - 1s 128us/step - loss: 0.0098 - acc: 0.0000e+00 - val_loss: 0.0390 - val_acc: 0.0000e+00\n",
      "Epoch 108/200\n",
      "7039/7039 [==============================] - 1s 128us/step - loss: 0.0132 - acc: 0.0000e+00 - val_loss: 0.0694 - val_acc: 0.0000e+00\n",
      "Epoch 109/200\n",
      "7039/7039 [==============================] - 1s 132us/step - loss: 0.0100 - acc: 0.0000e+00 - val_loss: 0.0266 - val_acc: 0.0000e+00\n",
      "Epoch 110/200\n",
      "7039/7039 [==============================] - 1s 128us/step - loss: 0.0111 - acc: 0.0000e+00 - val_loss: 0.0810 - val_acc: 0.0000e+00\n",
      "Epoch 111/200\n",
      "7039/7039 [==============================] - 1s 127us/step - loss: 0.0104 - acc: 0.0000e+00 - val_loss: 0.0361 - val_acc: 0.0000e+00\n",
      "Epoch 112/200\n",
      "7039/7039 [==============================] - 1s 127us/step - loss: 0.0119 - acc: 0.0000e+00 - val_loss: 0.0590 - val_acc: 0.0000e+00\n",
      "Epoch 113/200\n"
     ]
    },
    {
     "name": "stdout",
     "output_type": "stream",
     "text": [
      "7039/7039 [==============================] - 1s 131us/step - loss: 0.0099 - acc: 0.0000e+00 - val_loss: 0.0282 - val_acc: 0.0000e+00\n",
      "Epoch 114/200\n",
      "7039/7039 [==============================] - 1s 129us/step - loss: 0.0112 - acc: 0.0000e+00 - val_loss: 0.0582 - val_acc: 0.0000e+00\n",
      "Epoch 115/200\n",
      "7039/7039 [==============================] - 1s 127us/step - loss: 0.0104 - acc: 0.0000e+00 - val_loss: 0.0321 - val_acc: 0.0000e+00\n",
      "Epoch 116/200\n",
      "7039/7039 [==============================] - 1s 125us/step - loss: 0.0114 - acc: 0.0000e+00 - val_loss: 0.0991 - val_acc: 0.0000e+00\n",
      "Epoch 117/200\n",
      "7039/7039 [==============================] - 1s 128us/step - loss: 0.0092 - acc: 0.0000e+00 - val_loss: 0.0313 - val_acc: 0.0000e+00\n",
      "Epoch 118/200\n",
      "7039/7039 [==============================] - 1s 126us/step - loss: 0.0112 - acc: 0.0000e+00 - val_loss: 0.0686 - val_acc: 0.0000e+00\n",
      "Epoch 119/200\n",
      "7039/7039 [==============================] - 1s 124us/step - loss: 0.0106 - acc: 0.0000e+00 - val_loss: 0.0297 - val_acc: 0.0000e+00\n",
      "Epoch 120/200\n",
      "7039/7039 [==============================] - 1s 126us/step - loss: 0.0095 - acc: 0.0000e+00 - val_loss: 0.0460 - val_acc: 0.0000e+00\n",
      "Epoch 121/200\n",
      "7039/7039 [==============================] - 1s 123us/step - loss: 0.0103 - acc: 0.0000e+00 - val_loss: 0.0303 - val_acc: 0.0000e+00\n",
      "Epoch 122/200\n",
      "7039/7039 [==============================] - 1s 126us/step - loss: 0.0109 - acc: 0.0000e+00 - val_loss: 0.0983 - val_acc: 0.0000e+00\n",
      "Epoch 123/200\n",
      "7039/7039 [==============================] - 1s 123us/step - loss: 0.0094 - acc: 0.0000e+00 - val_loss: 0.0364 - val_acc: 0.0000e+00\n",
      "Epoch 124/200\n",
      "7039/7039 [==============================] - 1s 123us/step - loss: 0.0108 - acc: 0.0000e+00 - val_loss: 0.0640 - val_acc: 0.0000e+00\n",
      "Epoch 125/200\n",
      "7039/7039 [==============================] - 1s 123us/step - loss: 0.0098 - acc: 0.0000e+00 - val_loss: 0.0335 - val_acc: 0.0000e+00\n",
      "Epoch 126/200\n",
      "7039/7039 [==============================] - 1s 124us/step - loss: 0.0111 - acc: 0.0000e+00 - val_loss: 0.0581 - val_acc: 0.0000e+00\n",
      "Epoch 127/200\n",
      "7039/7039 [==============================] - 1s 124us/step - loss: 0.0084 - acc: 0.0000e+00 - val_loss: 0.0467 - val_acc: 0.0000e+00\n",
      "Epoch 128/200\n",
      "7039/7039 [==============================] - 1s 125us/step - loss: 0.0114 - acc: 0.0000e+00 - val_loss: 0.0819 - val_acc: 0.0000e+00\n",
      "Epoch 129/200\n",
      "7039/7039 [==============================] - 1s 129us/step - loss: 0.0098 - acc: 0.0000e+00 - val_loss: 0.0350 - val_acc: 0.0000e+00\n",
      "Epoch 130/200\n",
      "7039/7039 [==============================] - 1s 127us/step - loss: 0.0103 - acc: 0.0000e+00 - val_loss: 0.0792 - val_acc: 0.0000e+00\n",
      "Epoch 131/200\n",
      "7039/7039 [==============================] - 1s 122us/step - loss: 0.0100 - acc: 0.0000e+00 - val_loss: 0.0326 - val_acc: 0.0000e+00\n",
      "Epoch 132/200\n",
      "7039/7039 [==============================] - 1s 125us/step - loss: 0.0102 - acc: 0.0000e+00 - val_loss: 0.0660 - val_acc: 0.0000e+00\n",
      "Epoch 133/200\n",
      "7039/7039 [==============================] - 1s 124us/step - loss: 0.0103 - acc: 0.0000e+00 - val_loss: 0.0318 - val_acc: 0.0000e+00\n",
      "Epoch 134/200\n",
      "7039/7039 [==============================] - 1s 127us/step - loss: 0.0097 - acc: 0.0000e+00 - val_loss: 0.0743 - val_acc: 0.0000e+00\n",
      "Epoch 135/200\n",
      "7039/7039 [==============================] - 1s 124us/step - loss: 0.0098 - acc: 0.0000e+00 - val_loss: 0.0431 - val_acc: 0.0000e+00\n",
      "Epoch 136/200\n",
      "7039/7039 [==============================] - 1s 123us/step - loss: 0.0104 - acc: 0.0000e+00 - val_loss: 0.0994 - val_acc: 0.0000e+00\n",
      "Epoch 137/200\n",
      "7039/7039 [==============================] - 1s 124us/step - loss: 0.0098 - acc: 0.0000e+00 - val_loss: 0.0420 - val_acc: 0.0000e+00\n",
      "Epoch 138/200\n",
      "7039/7039 [==============================] - 1s 128us/step - loss: 0.0088 - acc: 0.0000e+00 - val_loss: 0.0788 - val_acc: 0.0000e+00\n",
      "Epoch 139/200\n",
      "7039/7039 [==============================] - 1s 127us/step - loss: 0.0100 - acc: 0.0000e+00 - val_loss: 0.0323 - val_acc: 0.0000e+00\n",
      "Epoch 140/200\n",
      "7039/7039 [==============================] - 1s 130us/step - loss: 0.0096 - acc: 0.0000e+00 - val_loss: 0.0639 - val_acc: 0.0000e+00\n",
      "Epoch 141/200\n",
      "7039/7039 [==============================] - 1s 127us/step - loss: 0.0093 - acc: 0.0000e+00 - val_loss: 0.0338 - val_acc: 0.0000e+00\n",
      "Epoch 142/200\n",
      "7039/7039 [==============================] - 1s 124us/step - loss: 0.0096 - acc: 0.0000e+00 - val_loss: 0.0504 - val_acc: 0.0000e+00\n",
      "Epoch 143/200\n",
      "7039/7039 [==============================] - 1s 126us/step - loss: 0.0097 - acc: 0.0000e+00 - val_loss: 0.0325 - val_acc: 0.0000e+00\n",
      "Epoch 144/200\n",
      "7039/7039 [==============================] - 1s 130us/step - loss: 0.0090 - acc: 0.0000e+00 - val_loss: 0.0683 - val_acc: 0.0000e+00\n",
      "Epoch 145/200\n",
      "7039/7039 [==============================] - 1s 128us/step - loss: 0.0104 - acc: 0.0000e+00 - val_loss: 0.0493 - val_acc: 0.0000e+00\n",
      "Epoch 146/200\n",
      "7039/7039 [==============================] - 1s 123us/step - loss: 0.0088 - acc: 0.0000e+00 - val_loss: 0.0954 - val_acc: 0.0000e+00\n",
      "Epoch 147/200\n",
      "7039/7039 [==============================] - 1s 128us/step - loss: 0.0099 - acc: 0.0000e+00 - val_loss: 0.0497 - val_acc: 0.0000e+00\n",
      "Epoch 148/200\n",
      "7039/7039 [==============================] - 1s 125us/step - loss: 0.0086 - acc: 0.0000e+00 - val_loss: 0.0905 - val_acc: 0.0000e+00\n",
      "Epoch 149/200\n",
      "7039/7039 [==============================] - 1s 123us/step - loss: 0.0098 - acc: 0.0000e+00 - val_loss: 0.0382 - val_acc: 0.0000e+00\n",
      "Epoch 150/200\n",
      "7039/7039 [==============================] - 1s 126us/step - loss: 0.0092 - acc: 0.0000e+00 - val_loss: 0.0447 - val_acc: 0.0000e+00\n",
      "Epoch 151/200\n",
      "7039/7039 [==============================] - 1s 126us/step - loss: 0.0084 - acc: 0.0000e+00 - val_loss: 0.0568 - val_acc: 0.0000e+00\n",
      "Epoch 152/200\n",
      "7039/7039 [==============================] - 1s 127us/step - loss: 0.0109 - acc: 0.0000e+00 - val_loss: 0.0310 - val_acc: 0.0000e+00\n",
      "Epoch 153/200\n",
      "7039/7039 [==============================] - 1s 128us/step - loss: 0.0078 - acc: 0.0000e+00 - val_loss: 0.0661 - val_acc: 0.0000e+00\n",
      "Epoch 154/200\n",
      "7039/7039 [==============================] - 1s 127us/step - loss: 0.0104 - acc: 0.0000e+00 - val_loss: 0.0360 - val_acc: 0.0000e+00\n",
      "Epoch 155/200\n",
      "7039/7039 [==============================] - 1s 126us/step - loss: 0.0092 - acc: 0.0000e+00 - val_loss: 0.1000 - val_acc: 0.0000e+00\n",
      "Epoch 156/200\n",
      "7039/7039 [==============================] - 1s 126us/step - loss: 0.0087 - acc: 0.0000e+00 - val_loss: 0.0342 - val_acc: 0.0000e+00\n",
      "Epoch 157/200\n",
      "7039/7039 [==============================] - 1s 129us/step - loss: 0.0103 - acc: 0.0000e+00 - val_loss: 0.0891 - val_acc: 0.0000e+00\n",
      "Epoch 158/200\n",
      "7039/7039 [==============================] - 1s 126us/step - loss: 0.0085 - acc: 0.0000e+00 - val_loss: 0.0400 - val_acc: 0.0000e+00\n",
      "Epoch 159/200\n",
      "5120/7039 [====================>.........] - ETA: 0s - loss: 0.0091 - acc: 0.0000e+00"
     ]
    }
   ],
   "source": [
    "model.fit(\n",
    "    X_train,\n",
    "    y_train,\n",
    "    batch_size=1024,\n",
    "    epochs=200,\n",
    "    validation_split=0.1,\n",
    "    verbose=1)"
   ]
  },
  {
   "cell_type": "code",
   "execution_count": 74,
   "metadata": {},
   "outputs": [
    {
     "name": "stdout",
     "output_type": "stream",
     "text": [
      "7813/7813 [==============================] - 2s 291us/step\n",
      "Train Score: 0.43 MSE (0.65 RMSE)\n",
      "411/411 [==============================] - 0s 345us/step\n",
      "Test Score: 16.97 MSE (4.12 RMSE)\n"
     ]
    }
   ],
   "source": [
    "trainScore = model.evaluate(X_train, y_train, verbose=1)\n",
    "print('Train Score: %.2f MSE (%.2f RMSE)' % (trainScore[0], math.sqrt(trainScore[0])))\n",
    "\n",
    "testScore = model.evaluate(X_test, y_test, verbose=1)\n",
    "print('Test Score: %.2f MSE (%.2f RMSE)' % (testScore[0], math.sqrt(testScore[0])))"
   ]
  },
  {
   "cell_type": "code",
   "execution_count": 75,
   "metadata": {},
   "outputs": [],
   "source": [
    "diff = []\n",
    "ratio = []\n",
    "pred = model.predict(X_test)\n",
    "for u in range(len(y_test)):\n",
    "    pr = pred[u][0]\n",
    "    ratio.append((y_test[u] / pr) - 1)\n",
    "    diff.append(abs(y_test[u] - pr))"
   ]
  },
  {
   "cell_type": "code",
   "execution_count": 76,
   "metadata": {},
   "outputs": [],
   "source": [
    "# TODO: Scale it back"
   ]
  },
  {
   "cell_type": "code",
   "execution_count": 77,
   "metadata": {},
   "outputs": [
    {
     "data": {
      "image/png": "[encoded data removed]",
      "text/plain": [
       "<Figure size 432x288 with 1 Axes>"
      ]
     },
     "metadata": {},
     "output_type": "display_data"
    }
   ],
   "source": [
    "# if using within a jupyter notebook\n",
    "%matplotlib inline \n",
    "\n",
    "import matplotlib\n",
    "import matplotlib.pyplot as plt2\n",
    "\n",
    "plt2.plot(pred[180:250], color='red', label='Prediction')\n",
    "plt2.plot(y_test[180:250], color='blue', label='Ground Truth')\n",
    "plt2.legend(loc='upper left')\n",
    "plt2.show()"
   ]
  },
  {
   "cell_type": "code",
   "execution_count": null,
   "metadata": {},
   "outputs": [],
   "source": []
  },
  {
   "cell_type": "code",
   "execution_count": null,
   "metadata": {},
   "outputs": [],
   "source": []
  },
  {
   "cell_type": "code",
   "execution_count": null,
   "metadata": {},
   "outputs": [],
   "source": []
  }
 ],
 "metadata": {
  "kernelspec": {
   "display_name": "Python 2",
   "language": "python",
   "name": "python2"
  },
  "language_info": {
   "codemirror_mode": {
    "name": "ipython",
    "version": 2
   },
   "file_extension": ".py",
   "mimetype": "text/x-python",
   "name": "python",
   "nbconvert_exporter": "python",
   "pygments_lexer": "ipython2",
   "version": "2.7.12"
  }
 },
 "nbformat": 4,
 "nbformat_minor": 2
}
